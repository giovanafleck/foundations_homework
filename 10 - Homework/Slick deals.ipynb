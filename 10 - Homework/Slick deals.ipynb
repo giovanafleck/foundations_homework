{
 "cells": [
  {
   "cell_type": "code",
   "execution_count": 1,
   "metadata": {},
   "outputs": [],
   "source": [
    "import requests\n",
    "from bs4 import BeautifulSoup\n",
    "import pandas as pd"
   ]
  },
  {
   "cell_type": "code",
   "execution_count": null,
   "metadata": {},
   "outputs": [],
   "source": [
    "##To do: \n",
    "# Send yourself an email with as much information as possible from the site, such as:\n",
    "# The title of the thing (the sale, the article, whatever)\n",
    "# A URL for it\n",
    "# Upvotes/thumbs ups/subreddits/prices/links to images/etc"
   ]
  },
  {
   "cell_type": "code",
   "execution_count": 2,
   "metadata": {},
   "outputs": [],
   "source": [
    "response = requests.get('https://slickdeals.net')\n",
    "doc = BeautifulSoup(response.text, 'html.parser')"
   ]
  },
  {
   "cell_type": "code",
   "execution_count": 3,
   "metadata": {},
   "outputs": [
    {
     "data": {
      "text/plain": [
       "56"
      ]
     },
     "execution_count": 3,
     "metadata": {},
     "output_type": "execute_result"
    }
   ],
   "source": [
    "products = doc.find_all(class_='fpItem')\n",
    "len(products)"
   ]
  },
  {
   "cell_type": "code",
   "execution_count": 4,
   "metadata": {},
   "outputs": [
    {
     "name": "stdout",
     "output_type": "stream",
     "text": [
      " \n",
      " \n",
      " \n"
     ]
    },
    {
     "data": {
      "text/plain": [
       "[{'title': '', 'store': '\\xa0'},\n",
       " {'title': 'Reebok Style Active Foundation Backpack &lparCobalt&rpar',\n",
       "  'store': 'Reebok\\xa0',\n",
       "  'price': '\\n                                          $10\\n                                                                                  $35\\n',\n",
       "  'link': 'https://slickdeals.net/f/13165963-reebok-16-active-foundation-grip-duffel-bag-crushed-cobalt-8-style-active-foundation-backpack-crushed-cobalt-10-more-free-shipping?src=frontpage'},\n",
       " {'title': 'Air Canada Roundtrip Flight&colon San Diego to Hong Kong',\n",
       "  'store': 'Skyscanner\\xa0',\n",
       "  'price': '\\n                                          from $475\\n                                                                              ',\n",
       "  'link': 'https://slickdeals.net/f/13161361-air-canada-roundtrip-flight-san-diego-to-hong-kong-from-475-travel-sep-2019-apr-2020?src=frontpage'},\n",
       " {'title': 'Chase Ink Business Cash Card',\n",
       "  'store': 'Chase - Bank Advertiser\\xa0',\n",
       "  'price': '\\n                                          $500 Cash Back\\n                                                                              ',\n",
       "  'link': 'https://slickdeals.net/f/11403699-chase-ink-business-cash-card-500-cash-back-w-3k-spent-in-1st-3-mos?src=sticky-24'},\n",
       " {'title': 'Better Homes & Gardens Avery Accent Table &lparVarious Colors&rpar',\n",
       "  'store': 'Walmart\\xa0',\n",
       "  'price': '\\n                                          $14.70\\n                                                                                  $54\\n',\n",
       "  'link': 'https://slickdeals.net/f/13166539-better-homes-gardens-avery-multiple-colors-accent-table-14-71-c-table-18-49-console-table-24-14-at-walmart?src=frontpage'},\n",
       " {'title': 'Spider-Man Kids&apos 6V Super Car',\n",
       "  'store': 'Walmart\\xa0',\n",
       "  'price': '\\n                                          $88\\n                                                                                      $149\\n$149\\n',\n",
       "  'link': 'https://slickdeals.net/f/13166299-walmart-spiderman-marvel-6-volt-spider-man-super-car-for-kids-88?src=frontpage'},\n",
       " {'title': 'Community Coffee&colon Buy One Get One Free Coffee&colon 144-Ct K-Cups &lparVarious&rpar',\n",
       "  'store': 'Community Coffee\\xa0',\n",
       "  'price': '\\n                                          $45\\n                                                                                      $90\\n$90\\n',\n",
       "  'link': 'https://slickdeals.net/f/13163125-community-coffee-buy-one-get-one-free-72-ct-k-cups-5-flavors-44-99?src=sticky-24'},\n",
       " {'title': 'Pyrex 8-Piece Glass Mixing Bowl Set or 12-Piece Glass Storage Set',\n",
       "  'store': \"Macy's\\xa0\",\n",
       "  'price': '\\n                                          $15 each\\n                                                                              ',\n",
       "  'link': 'https://slickdeals.net/f/13165738-pyrex-8-pc-mixing-bowl-set-or-12-pc-storage-set-14-99-at-macys?src=frontpage'},\n",
       " {'title': 'Roundtrip Flight&colon Los Angeles to Bangkok&comma Thailand',\n",
       "  'store': 'Skyscanner\\xa0',\n",
       "  'price': '\\n                                          from $419\\n                                                                              ',\n",
       "  'link': 'https://slickdeals.net/f/13160590-roundtrip-flight-los-angeles-to-bangkok-thailand-from-419-travel-sept-dec-2019?src=frontpage'},\n",
       " {'title': 'Chase Sapphire Preferred Card&colon Spend &dollar4K on Purchases & Earn',\n",
       "  'store': 'Chase - Bank Advertiser\\xa0',\n",
       "  'price': '\\n                                          60,000 Points\\n                                                                              ',\n",
       "  'link': 'https://slickdeals.net/f/12940198-chase-sapphire-preferred-card-spend-4k-on-purchases-earn-60-000-points-within-1st-3-months?src=sticky-24'},\n",
       " {'title': '24-Ct 3oz Purina Fancy Feast Wet Canned Cat Food &lparSeafood Grilled Collection&rpar',\n",
       "  'store': 'Amazon\\xa0',\n",
       "  'price': '\\n                                          $8.20\\n                                                                                      $17\\n$17\\n',\n",
       "  'link': 'https://slickdeals.net/f/13166497-purina-fancy-feast-gravy-wet-cat-food-variety-pack-8-18-for-24-cans-with-free-prime-shipping?src=frontpage'},\n",
       " {'title': '65\" LG OLED65E8PUA 4K UHD HDR OLED AI Smart HDTV',\n",
       "  'store': 'eBay\\xa0',\n",
       "  'price': '\\n                                          $1899\\n                                                                                      $3297\\n$3297\\n',\n",
       "  'link': 'https://slickdeals.net/f/13165174-auth-dealer-65-oled65e8pua-4k-oled-smart-hdtv-1899-free-s-h?src=frontpage'},\n",
       " {'title': 'Chase Ink Business Preferred Card',\n",
       "  'store': 'Chase - Bank Advertiser\\xa0',\n",
       "  'price': '\\n                                          80K Points\\n                                                                              ',\n",
       "  'link': 'https://slickdeals.net/f/9205591-chase-ink-business-preferred-card-80k-points-w-5k-spent-in-1st-3-mos?src=sticky-24'},\n",
       " {'title': '40-Count 5&period5oz Purina Friskies Canned Wet Cat Food &lparShreds Variety Pack&rpar',\n",
       "  'store': 'Amazon\\xa0',\n",
       "  'price': '\\n                                          $16.25\\n                                                                                      $23\\n$23\\n',\n",
       "  'link': 'https://slickdeals.net/f/13166257-purina-friskies-canned-wet-cat-food-40-ct-variety-pack-16-25-free-prime-shipping?src=frontpage'},\n",
       " {'title': 'Select Barnes & Noble Cafe Locations&colon Any Size Starbucks Beverage',\n",
       "  'store': 'Barnes & Noble Cafe\\xa0',\n",
       "  'price': '\\n                                          $2 Off\\n                                                                              ',\n",
       "  'link': 'https://slickdeals.net/f/13165933-barnes-noble-cafe-2-off-any-size-starbucks-beverage-via-mobile-app-android-or-ios-select-stores-only?src=frontpage'},\n",
       " {'title': '1-Month Audible Trial &plus 2 Audible Originals &plus 2 Audiobooks',\n",
       "  'store': 'Audible\\xa0',\n",
       "  'price': '\\n                                          Free\\n                                                                              ',\n",
       "  'link': 'https://slickdeals.net/f/13118755-2-free-audiobooks-and-2-audible-originals-for-returning-members-ymmv?src=sticky-24'},\n",
       " {'title': 'Kenwood DMX905S 6&period95\" WVGA In-Dash Receiver w&sol CarPlay & Android Auto',\n",
       "  'store': 'NeweggFlash\\xa0',\n",
       "  'price': '\\n                                          $326\\n                                                                                      $499\\n$499\\n',\n",
       "  'link': 'https://slickdeals.net/f/13165690-kenwood-dmx905s-6-95-wvga-digital-multimedia-receiver-w-apple-carplay-android-auto?src=frontpage'},\n",
       " {'title': '6-Count 8&period8oz&period Febreze Air Effects Air Freshener &lparLinen & Sky&rpar',\n",
       "  'store': 'Amazon\\xa0',\n",
       "  'price': '\\n                                          $7.40\\n                                                                                      $12\\n$12\\n',\n",
       "  'link': 'https://slickdeals.net/f/13166092-6-pack-8-8oz-febreze-air-effects-air-freshener-linen-sky-7-39-ac-w-s-s?src=frontpage'},\n",
       " {'title': 'Chase Ink Business Unlimited Credit Card',\n",
       "  'store': 'Chase - Bank Advertiser\\xa0',\n",
       "  'price': '\\n                                          $500 Bonus\\n                                                                              ',\n",
       "  'link': 'https://slickdeals.net/f/11621423-chase-ink-business-unlimited-credit-card-500-bonus-after-3k-spent-in-3-months?src=sticky-24'},\n",
       " {'title': 'Walgreens 5\" x 5\" Lenticular &sol Motion Effect Print',\n",
       "  'store': 'Walgreens\\xa0',\n",
       "  'price': '\\n                                          $1 each\\n                                                                                      $4\\n',\n",
       "  'link': 'https://slickdeals.net/f/13166005-walgreens-5-x-5-lenticular-motion-effect-print-1-each-1-50-s-h?src=frontpage'},\n",
       " {'title': '60\" Hisense 60R5800E 4K UHD HDR Roku Smart LED HDTV',\n",
       "  'store': 'Walmart\\xa0',\n",
       "  'price': '\\n                                          $330\\n                                                                                      $500\\n$500\\n',\n",
       "  'link': 'https://slickdeals.net/f/13166212-hisense-60-class-4k-ultra-hd-2160p-hdr-roku-smart-led-tv-for-330-walmart?src=frontpage'},\n",
       " {'title': 'Bank of America® Cash Rewards Credit Card',\n",
       "  'store': 'Bank of America - Bank Advertiser\\xa0',\n",
       "  'price': '\\n                                          $200 Bonus Offer\\n                                                                              ',\n",
       "  'link': 'https://slickdeals.net/f/13004074-bank-of-america-cash-rewards-credit-card-200-bonus-offer-w-1k-in-eligible-purchases?src=sticky-24'},\n",
       " {'title': 'Better Homes &plus Gardens Coffee Tables&colon Granary Modern Farmhouse Coffee Table',\n",
       "  'store': 'Walmart\\xa0',\n",
       "  'price': '\\n                                          $36.25\\n                                                                                  $120\\n',\n",
       "  'link': 'https://slickdeals.net/f/13166173-better-homes-and-gardens-granary-modern-farmhouse-coffee-table-brown-36-22-gray-62-38-free-shipping-price-drop?src=frontpage'},\n",
       " {'title': 'Select Reebok Shoes&colon Men&aposs Reebok Sole Fury SE Running Shoes',\n",
       "  'store': 'Reebok\\xa0',\n",
       "  'price': '\\n                                          $28\\n                                                                                  $90\\n',\n",
       "  'link': 'https://slickdeals.net/f/13166017-select-reebok-shoes-men-s-reebok-sole-fury-se-running-shoes-28-free-s-h-for-rewards-members?src=frontpage'},\n",
       " {'title': 'Wells Fargo Cash Wise Visa® Card',\n",
       "  'store': 'Wells Fargo - Bank Advertiser\\xa0',\n",
       "  'price': '\\n                                          $200 Bonus\\n                                                                              ',\n",
       "  'link': 'https://slickdeals.net/f/10076220-wells-fargo-cash-wise-visa-card-200-bonus-1-5-cash-rewards?src=sticky-24'},\n",
       " {'title': 'Ecco&colon Men&aposs Ecco Collin 2&period0 Slip-On Shoes &lparvarious colors&rpar',\n",
       "  'store': 'Ecco\\xa0',\n",
       "  'price': '\\n                                          $60\\n                                                                                  $150\\n',\n",
       "  'link': 'https://slickdeals.net/f/13163398-ecco-men-s-ecco-collin-2-0-slip-on-shoes-various-colors-60-women-s-ecco-yucatan-sandal-bison-mineral-black-60-free-shipping?src=frontpage'},\n",
       " {'title': 'HSBC Direct Savings Account&colon Earn 2&period30&percnt APY &plus Extra',\n",
       "  'store': 'HSBC Direct Savings\\xa0',\n",
       "  'price': '\\n                                          $125 SD Bonus\\n                                                                              ',\n",
       "  'link': 'https://slickdeals.net/f/12992002-hsbc-direct-savings-account-earn-2-30-apy-extra-125-sd-bonus-member-fdic?src=sticky-24'},\n",
       " {'title': '64GB 12&period9\" Apple iPad Pro Wi-Fi &lparLatest Model&comma Silver&rpar',\n",
       "  'store': 'Walmart\\xa0',\n",
       "  'price': '\\n                                          $824\\n                                                                                      $999\\n$999\\n',\n",
       "  'link': 'https://slickdeals.net/f/13164748-ipad-pro-usb-c-12-9-64gb-wifi-for-824-on-amazon-silver-only?src=frontpage'},\n",
       " {'title': '1TB Crucial MX500 2&period5\" SATA III Internal Solid State Drive',\n",
       "  'store': 'Newegg\\xa0',\n",
       "  'price': '\\n                                          $100\\n                                                                              ',\n",
       "  'link': 'https://slickdeals.net/f/13163263-1tb-crucial-mx500-2-5-ssd-100-ac-newegg?src=frontpage'},\n",
       " {'title': 'Blue Cash Everyday® Card from American Express &lparterms apply&rpar',\n",
       "  'store': 'Amex - Bank Advertiser\\xa0',\n",
       "  'price': '\\n                                          Earn $150 Back\\n                                                                              ',\n",
       "  'link': 'https://slickdeals.net/f/11916935-blue-cash-everyday-card-from-american-express-terms-apply-earn-150-back-w-1k-spent-in-1st-3-mos?src=sticky-24'},\n",
       " {'title': 'Nintendo Switch Digital Games&colon Crawl &dollar9&comma Pinstripe &dollar6&comma Death Squared',\n",
       "  'store': 'Nintendo\\xa0',\n",
       "  'price': '\\n                                          $5.85\\n                                                                                      $15\\n$15\\n',\n",
       "  'link': 'https://slickdeals.net/f/13162582-nintendo-switch-digital-games-death-squared-5-84-crawl-8-99-pinstripe-5-99-poly-bridge-7-49-more?src=frontpage'},\n",
       " {'title': 'JCPenney Home Performance OEKO-TEX Cotton Bath Towels &lparvarious colors&rpar',\n",
       "  'store': 'JCPenney\\xa0',\n",
       "  'price': '\\n                                          $3.50 Each\\n                                                                              ',\n",
       "  'link': 'https://slickdeals.net/f/13165675-jcpenney-home-performance-oeko-tex-cotton-bath-towel-3-50-hand-towel-2-10-washcloth-1-40-free-store-pickup-at-jcpenney?src=frontpage'},\n",
       " {'title': 'Verizon Fios&colon 100&sol100 Mbps Internet',\n",
       "  'store': 'Verizon Fios\\xa0',\n",
       "  'price': '\\n                                          $39.99/month\\n                                                                              ',\n",
       "  'link': 'https://slickdeals.net/e/10817763-verizon-fios-100-100-mbps-internet-39-99-month-auto-pay-required-new-customers-only?src=sticky-24'},\n",
       " {'title': 'Complete DVD Series&colon Teenage Mutant Ninja Turtles&colon Classic Series',\n",
       "  'store': 'Amazon\\xa0',\n",
       "  'price': '\\n                                          $32.95\\n                                                                                  $41\\n',\n",
       "  'link': 'https://slickdeals.net/f/13163539-complete-dvd-series-teenage-mutant-ninja-turtles-classic-series-32-95-more?src=frontpage'},\n",
       " {'title': '16GB &lpar2x8GB&rpar RGB DDR4 Desktop Memory&colon G&periodSKILL TridentZ 3000 &lparPC4 24000&rpar',\n",
       "  'store': 'Newegg\\xa0',\n",
       "  'price': '\\n                                          $86\\n                                                                              ',\n",
       "  'link': 'https://slickdeals.net/f/13160833-rgb-ddr4-memory-16gb-2x8gb-g-skill-tridentz-rgb-desktop-memory-3600-pc4-28800-94-99-3000-pc4-24000-85-99-free-shipping-more-via-newegg?src=frontpage'},\n",
       " {'title': 'Wells Fargo Propel® Card  &lpar&dollar0 Annual Fee&rpar',\n",
       "  'store': 'Wells Fargo - Bank Advertiser\\xa0',\n",
       "  'price': '\\n                                          30K Bonus Pts\\n                                                                              ',\n",
       "  'link': 'https://slickdeals.net/f/11813555-wells-fargo-propel-card-0-annual-fee-30k-bonus-pts-w-3k-spent-in-1st-3-mos?src=sticky-24'},\n",
       " {'title': 'Screwball by Simon Rich Pre-order &lparAudiobook&rpar & More',\n",
       "  'store': 'Audible\\xa0',\n",
       "  'price': '\\n                                          Free\\n                                                                              ',\n",
       "  'link': 'https://slickdeals.net/f/13165063-screwball-by-simon-rich-pre-order-audiobook-more-free-audible-members-only?src=frontpage'},\n",
       " {'title': '6-Pack 12oz Lavazza Classico Ground Coffee Blend &lparMedium Roast&rpar',\n",
       "  'store': 'Amazon\\xa0',\n",
       "  'price': '\\n                                          $25.20\\n                                                                                      $40\\n$40\\n',\n",
       "  'link': 'https://slickdeals.net/f/13162510-lavazza-classico-ground-coffee-blend-medium-roast-12-ounce-bags-pack-of-6-with-s-s?src=frontpage'},\n",
       " {'title': 'Bath & Body Works&colon Select Full-Sized Shower Gel or Body Wash &dollar2&period50&comma Body Lotion',\n",
       "  'store': 'Bath & Body Works\\xa0',\n",
       "  'price': '\\n                                          $2.50\\n                                                                                      $13\\n$13\\n',\n",
       "  'link': 'https://slickdeals.net/f/13162903-bath-body-works-select-full-sized-shower-gel-or-body-wash-2-50-select-body-lotion-2-50-3-wick-candles-8-40-more-6-shipping?src=frontpage'},\n",
       " {'title': '2-lb Orgain Organic Protein Powder &lparCreamy Chocolate Fudge&rpar',\n",
       "  'store': 'Amazon\\xa0',\n",
       "  'price': '\\n                                          $13.45\\n                                                                              ',\n",
       "  'link': 'https://slickdeals.net/f/13163650-2-lb-orgain-organic-protein-powder-creamy-chocolate-fudge-13-43-or-11-75-15-ac-w-s-s-free-shipping?src=frontpage'},\n",
       " {'title': 'Baby & Toddler Girls&apos Skort or Tank Top &dollar2&comma Big Girls&apos Bike Shorts',\n",
       "  'store': \"The Children's Place\\xa0\",\n",
       "  'price': '\\n                                          $2\\n                                                                                  $10\\n',\n",
       "  'link': 'https://slickdeals.net/f/13153657-childrens-place-baby-and-toddler-girls-matchables-print-knit-skort-2-big-girls-matchables-print-knit-bike-shorts-2-baby-boys-tees-select-2-free-shipping?src=frontpage'},\n",
       " {'title': 'PUMA Women&aposs Clyde GCC Sneakers &lparBlack&rpar',\n",
       "  'store': 'SHOEBACCA\\xa0',\n",
       "  'price': '\\n                                          $18.95\\n                                                                              ',\n",
       "  'link': 'https://slickdeals.net/f/13159360-puma-women-s-clyde-gcc-sneakers-black-for-19-free-shipping?src=frontpage'},\n",
       " {'title': 'Martha Stewart Collection Essentials Down Alt&period Comforter &lparVarious Sizes&solColors&rpar',\n",
       "  'store': \"Macy's\\xa0\",\n",
       "  'price': '\\n                                          $20\\n                                                                                  $130\\n',\n",
       "  'link': 'https://slickdeals.net/f/13163278-martha-stewart-essentials-reversible-down-alternative-comforter-any-size-20-martha-stewart-mattress-pad-twin-10-free-store-pickup-at-macys?src=frontpage'},\n",
       " {'title': 'Nest 3rd Gen Wi-Fi Smart Learning Thermostat with Google Mini',\n",
       "  'store': 'Rakuten\\xa0',\n",
       "  'price': '\\n                                          $175\\n                                                                                  $299\\n',\n",
       "  'link': 'https://slickdeals.net/f/13141747-nest-3rd-gen-wi-fi-smart-learning-thermostat-with-google-mini-175-more-free-s-h?src=frontpage'},\n",
       " {'title': 'Kwikset 99110-808 SmartCode Electronic Keypad Lock &lparRenewed&rpar',\n",
       "  'store': 'Amazon\\xa0',\n",
       "  'price': '\\n                                          $66.50\\n                                                                                      $88\\n$88\\n',\n",
       "  'link': 'https://slickdeals.net/f/13163797-kwikset-99110-808-smartcode-electronic-keypad-lock-w-tustin-lever-featuring-smartkey-renewed-66-50-free-shipping?src=frontpage'},\n",
       " {'title': '77\" LG OLED77C8PUA 4K UHD HDR AI Smart OLED HDTV',\n",
       "  'store': 'eBay\\xa0',\n",
       "  'price': '\\n                                          $3699\\n                                                                                      $8997\\n$8997\\n',\n",
       "  'link': 'https://slickdeals.net/f/13165171-auth-dealer-77-lg-oled77c8pua-4k-oled-hdr-hdtv-3699-free-s-h?src=frontpage'},\n",
       " {'title': 'Cyberpunk 2077 Pre-Order &lparPS4 or Xbox One&rpar',\n",
       "  'store': 'Walmart\\xa0',\n",
       "  'price': '\\n                                          $49.95\\n                                                                                      $60\\n$60\\n',\n",
       "  'link': 'https://slickdeals.net/f/13164829-cyberpunk-2077-pre-order-ps4-or-xbox-one-49-95-free-shipping?src=frontpage'},\n",
       " {'title': 'Macy&aposs Handbags&colon COACH&comma Dooney & Bourke&comma Kate Spade & More',\n",
       "  'store': \"Macy's\\xa0\",\n",
       "  'price': '\\n                                          50%-70% off\\n                                                                              ',\n",
       "  'link': 'https://slickdeals.net/f/13158634-macy-s-handbags-coach-dooney-bourke-kate-spade-more-50-70-off?src=frontpage'},\n",
       " {'title': 'Dyson Ball Multi Floor Origin Vacuum w&sol 3 Tools',\n",
       "  'store': 'Dyson\\xa0',\n",
       "  'price': '\\n                                          $190\\n                                                                                      $300\\n$300\\n',\n",
       "  'link': 'https://slickdeals.net/f/13164697-dyson-ball-multi-floor-origin-vacuum-w-3-tools-189-99-free-shipping?src=frontpage'},\n",
       " {'title': '55\" LG OLED55E8PUA 4K UHD HDR AI Smart OLED HDTV',\n",
       "  'store': 'eBay\\xa0',\n",
       "  'price': '\\n                                          $999\\n                                                                                      $2497\\n$2497\\n',\n",
       "  'link': 'https://slickdeals.net/f/13165162-auth-dealer-55-lg-oled55e8pua-4k-hdr-tv-999-free-s-h?src=frontpage'},\n",
       " {'title': '14-Ounce Clorox 4-In-1 Disinfectant And Sanitizer Spray',\n",
       "  'store': 'Office Depot and OfficeMax\\xa0',\n",
       "  'price': '\\n                                          $3\\n                                                                                      $7\\n$7\\n',\n",
       "  'link': 'https://slickdeals.net/f/13163119-amazon-prime-clorox-4-in-1-disinfectant-sanitizer-2-99-free-shipping?src=frontpage'},\n",
       " {'title': 'LG OLED 4K TV&aposs&colon 65\" OLED65C8PUA &dollar1650&comma 55\" OLED55C8PUA',\n",
       "  'store': 'Google Express\\xa0',\n",
       "  'price': '\\n                                          $1049\\n                                                                                  $1897\\n',\n",
       "  'link': 'https://slickdeals.net/f/13149706-lg-oled-4k-tv-s-65-oled65c8pua-1650-55-oled55c8pua-1049-free-shipping?src=frontpage'},\n",
       " {'title': '34\" LG 34GK950G-B UltraWide 1440p QHD Curved G-SYNC Gaming Monitor',\n",
       "  'store': 'BuyDig\\xa0',\n",
       "  'price': '\\n                                          $679\\n                                                                                      $1400\\n$1400\\n',\n",
       "  'link': 'https://slickdeals.net/f/13164508-34-lg-34gk950g-b-curved-3440x1440-g-sync-gaming-monitor-679-free-s-h?src=frontpage'},\n",
       " {'title': '&dollar50 Nintendo eShop Gift Card &lparEmail Delivery&rpar',\n",
       "  'store': 'MassGenie\\xa0',\n",
       "  'price': '\\n                                          $42\\n                                                                                      $50\\n$50\\n',\n",
       "  'link': 'https://slickdeals.net/f/13164763-nintendo-50-eshop-digital-code-41-95?src=frontpage'},\n",
       " {},\n",
       " {'title': '', 'store': '\\xa0'}]"
      ]
     },
     "execution_count": 4,
     "metadata": {},
     "output_type": "execute_result"
    }
   ],
   "source": [
    "list_of_products = []\n",
    "\n",
    "for product in products:\n",
    "    \n",
    "    product_dict = {}\n",
    "    \n",
    "    try:\n",
    "        title = product.find(class_='itemTitle')\n",
    "        product_dict['title'] = title.text\n",
    "        store = product.find(class_='itemStore')\n",
    "        product_dict['store'] = store.text\n",
    "        price = product.find(class_='itemPrice')\n",
    "        product_dict['price'] = price.text\n",
    "        url = \"https://slickdeals.net\"\n",
    "        product_dict['link'] = url+product.find(class_='itemTitle').attrs['href']\n",
    "    except:\n",
    "        print(\" \")\n",
    "        \n",
    "        \n",
    "    list_of_products.append(product_dict)\n",
    "    \n",
    "list_of_products"
   ]
  },
  {
   "cell_type": "code",
   "execution_count": 5,
   "metadata": {},
   "outputs": [
    {
     "data": {
      "text/html": [
       "<div>\n",
       "<style scoped>\n",
       "    .dataframe tbody tr th:only-of-type {\n",
       "        vertical-align: middle;\n",
       "    }\n",
       "\n",
       "    .dataframe tbody tr th {\n",
       "        vertical-align: top;\n",
       "    }\n",
       "\n",
       "    .dataframe thead th {\n",
       "        text-align: right;\n",
       "    }\n",
       "</style>\n",
       "<table border=\"1\" class=\"dataframe\">\n",
       "  <thead>\n",
       "    <tr style=\"text-align: right;\">\n",
       "      <th></th>\n",
       "      <th>link</th>\n",
       "      <th>price</th>\n",
       "      <th>store</th>\n",
       "      <th>title</th>\n",
       "    </tr>\n",
       "  </thead>\n",
       "  <tbody>\n",
       "    <tr>\n",
       "      <th>0</th>\n",
       "      <td>NaN</td>\n",
       "      <td>NaN</td>\n",
       "      <td></td>\n",
       "      <td></td>\n",
       "    </tr>\n",
       "    <tr>\n",
       "      <th>1</th>\n",
       "      <td>https://slickdeals.net/f/13165963-reebok-16-ac...</td>\n",
       "      <td>$10...</td>\n",
       "      <td>Reebok</td>\n",
       "      <td>Reebok Style Active Foundation Backpack &amp;lparC...</td>\n",
       "    </tr>\n",
       "    <tr>\n",
       "      <th>2</th>\n",
       "      <td>https://slickdeals.net/f/13161361-air-canada-r...</td>\n",
       "      <td>fro...</td>\n",
       "      <td>Skyscanner</td>\n",
       "      <td>Air Canada Roundtrip Flight&amp;colon San Diego to...</td>\n",
       "    </tr>\n",
       "    <tr>\n",
       "      <th>3</th>\n",
       "      <td>https://slickdeals.net/f/11403699-chase-ink-bu...</td>\n",
       "      <td>$50...</td>\n",
       "      <td>Chase - Bank Advertiser</td>\n",
       "      <td>Chase Ink Business Cash Card</td>\n",
       "    </tr>\n",
       "    <tr>\n",
       "      <th>4</th>\n",
       "      <td>https://slickdeals.net/f/13166539-better-homes...</td>\n",
       "      <td>$14...</td>\n",
       "      <td>Walmart</td>\n",
       "      <td>Better Homes &amp; Gardens Avery Accent Table &amp;lpa...</td>\n",
       "    </tr>\n",
       "  </tbody>\n",
       "</table>\n",
       "</div>"
      ],
      "text/plain": [
       "                                                link  \\\n",
       "0                                                NaN   \n",
       "1  https://slickdeals.net/f/13165963-reebok-16-ac...   \n",
       "2  https://slickdeals.net/f/13161361-air-canada-r...   \n",
       "3  https://slickdeals.net/f/11403699-chase-ink-bu...   \n",
       "4  https://slickdeals.net/f/13166539-better-homes...   \n",
       "\n",
       "                                               price  \\\n",
       "0                                                NaN   \n",
       "1                                             $10...   \n",
       "2                                             fro...   \n",
       "3                                             $50...   \n",
       "4                                             $14...   \n",
       "\n",
       "                      store                                              title  \n",
       "0                                                                               \n",
       "1                   Reebok   Reebok Style Active Foundation Backpack &lparC...  \n",
       "2               Skyscanner   Air Canada Roundtrip Flight&colon San Diego to...  \n",
       "3  Chase - Bank Advertiser                        Chase Ink Business Cash Card  \n",
       "4                  Walmart   Better Homes & Gardens Avery Accent Table &lpa...  "
      ]
     },
     "execution_count": 5,
     "metadata": {},
     "output_type": "execute_result"
    }
   ],
   "source": [
    "df = pd.DataFrame(list_of_products)\n",
    "df['price'] = df['price'].str.replace(\"\\n\", \" \")\n",
    "df.head()"
   ]
  },
  {
   "cell_type": "code",
   "execution_count": 6,
   "metadata": {},
   "outputs": [
    {
     "data": {
      "text/plain": [
       "'05PM'"
      ]
     },
     "execution_count": 6,
     "metadata": {},
     "output_type": "execute_result"
    }
   ],
   "source": [
    "import datetime\n",
    "right_now = datetime.datetime.now()\n",
    "right_now = str(right_now.strftime(\"%Y-%m-%d-%I%p\"))\n",
    "str(right_now)\n",
    "right_now_header = datetime.datetime.now()\n",
    "right_now_header = str(right_now_header.strftime(\"%I%p\"))\n",
    "right_now_header\n"
   ]
  },
  {
   "cell_type": "code",
   "execution_count": 7,
   "metadata": {},
   "outputs": [],
   "source": [
    "df.to_csv('slick-deals-products-'+ right_now +'.csv' , index=False)\n"
   ]
  },
  {
   "cell_type": "code",
   "execution_count": 8,
   "metadata": {},
   "outputs": [
    {
     "data": {
      "text/plain": [
       "'slick-deals-products-2019-06-22-05PM.csv'"
      ]
     },
     "execution_count": 8,
     "metadata": {},
     "output_type": "execute_result"
    }
   ],
   "source": [
    "filename = 'slick-deals-products-'+ right_now +'.csv'\n",
    "filename"
   ]
  },
  {
   "cell_type": "code",
   "execution_count": 11,
   "metadata": {},
   "outputs": [
    {
     "ename": "NameError",
     "evalue": "name 'mailgun_key' is not defined",
     "output_type": "error",
     "traceback": [
      "\u001b[0;31m---------------------------------------------------------------------------\u001b[0m",
      "\u001b[0;31mNameError\u001b[0m                                 Traceback (most recent call last)",
      "\u001b[0;32m<ipython-input-11-4ec900b31d36>\u001b[0m in \u001b[0;36m<module>\u001b[0;34m\u001b[0m\n\u001b[1;32m      1\u001b[0m response = requests.post(\n\u001b[1;32m      2\u001b[0m         \u001b[0;34m\"https://api.mailgun.net/v3/sandboxf739b30cd9aa47bf9fb818fc4c6883da.mailgun.org/messages\"\u001b[0m\u001b[0;34m,\u001b[0m\u001b[0;34m\u001b[0m\u001b[0m\n\u001b[0;32m----> 3\u001b[0;31m         \u001b[0mauth\u001b[0m\u001b[0;34m=\u001b[0m\u001b[0;34m(\u001b[0m\u001b[0;34m\"api\"\u001b[0m\u001b[0;34m,\u001b[0m \u001b[0mmailgun_key\u001b[0m\u001b[0;34m)\u001b[0m\u001b[0;34m,\u001b[0m\u001b[0;34m\u001b[0m\u001b[0m\n\u001b[0m\u001b[1;32m      4\u001b[0m         \u001b[0mfiles\u001b[0m\u001b[0;34m=\u001b[0m\u001b[0;34m[\u001b[0m\u001b[0;34m(\u001b[0m\u001b[0;34m\"attachment\"\u001b[0m\u001b[0;34m,\u001b[0m \u001b[0mopen\u001b[0m\u001b[0;34m(\u001b[0m\u001b[0mfilename\u001b[0m\u001b[0;34m)\u001b[0m\u001b[0;34m)\u001b[0m\u001b[0;34m]\u001b[0m\u001b[0;34m,\u001b[0m\u001b[0;34m\u001b[0m\u001b[0m\n\u001b[1;32m      5\u001b[0m         data={\"from\": \"Excited User <mailgun@sandbox69f4b1683cf340f1b876b47ae74e0d74.mailgun.org>\",\n",
      "\u001b[0;31mNameError\u001b[0m: name 'mailgun_key' is not defined"
     ]
    }
   ],
   "source": [
    "response = requests.post(\n",
    "        \"https://api.mailgun.net/v3/sandboxf739b30cd9aa47bf9fb818fc4c6883da.mailgun.org/messages\",\n",
    "        auth=(\"api\", mailgun_key),\n",
    "        files=[(\"attachment\", open(filename))],\n",
    "        data={\"from\": \"Excited User <mailgun@sandbox69f4b1683cf340f1b876b47ae74e0d74.mailgun.org>\",\n",
    "              \"to\": \"Excited User <mailgun@sandbox69f4b1683cf340f1b876b47ae74e0d74.mailgun.org>\",\n",
    "              \"subject\": \"Here is your \"+ right_now_header+\" briefing\",\n",
    "              \"text\": \" \"})"
   ]
  },
  {
   "cell_type": "code",
   "execution_count": null,
   "metadata": {},
   "outputs": [],
   "source": []
  },
  {
   "cell_type": "code",
   "execution_count": null,
   "metadata": {},
   "outputs": [],
   "source": []
  }
 ],
 "metadata": {
  "kernelspec": {
   "display_name": "Python 3",
   "language": "python",
   "name": "python3"
  },
  "language_info": {
   "codemirror_mode": {
    "name": "ipython",
    "version": 3
   },
   "file_extension": ".py",
   "mimetype": "text/x-python",
   "name": "python",
   "nbconvert_exporter": "python",
   "pygments_lexer": "ipython3",
   "version": "3.6.5"
  }
 },
 "nbformat": 4,
 "nbformat_minor": 2
}
