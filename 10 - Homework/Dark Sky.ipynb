{
 "cells": [
  {
   "cell_type": "code",
   "execution_count": 1,
   "metadata": {},
   "outputs": [],
   "source": [
    "import requests\n",
    "from bs4 import BeautifulSoup\n",
    "import pandas as pd"
   ]
  },
  {
   "cell_type": "code",
   "execution_count": null,
   "metadata": {},
   "outputs": [],
   "source": [
    "##To do: "
   ]
  },
  {
   "cell_type": "code",
   "execution_count": 2,
   "metadata": {},
   "outputs": [
    {
     "ename": "NameError",
     "evalue": "name 'mailgun_key' is not defined",
     "output_type": "error",
     "traceback": [
      "\u001b[0;31m---------------------------------------------------------------------------\u001b[0m",
      "\u001b[0;31mNameError\u001b[0m                                 Traceback (most recent call last)",
      "\u001b[0;32m<ipython-input-2-3f0b73724186>\u001b[0m in \u001b[0;36m<module>\u001b[0;34m\u001b[0m\n\u001b[1;32m      1\u001b[0m response = requests.post(\n\u001b[1;32m      2\u001b[0m         \u001b[0;34m\"https://api.mailgun.net/v3/sandboxf739b30cd9aa47bf9fb818fc4c6883da.mailgun.org/messages\"\u001b[0m\u001b[0;34m,\u001b[0m\u001b[0;34m\u001b[0m\u001b[0m\n\u001b[0;32m----> 3\u001b[0;31m         \u001b[0mauth\u001b[0m\u001b[0;34m=\u001b[0m\u001b[0;34m(\u001b[0m\u001b[0;34m\"api\"\u001b[0m\u001b[0;34m,\u001b[0m \u001b[0mmailgun_key\u001b[0m\u001b[0;34m)\u001b[0m\u001b[0;34m,\u001b[0m\u001b[0;34m\u001b[0m\u001b[0m\n\u001b[0m\u001b[1;32m      4\u001b[0m         data={\"from\": \"Excited User <mailgun@sandbox69f4b1683cf340f1b876b47ae74e0d74.mailgun.org>\",\n\u001b[1;32m      5\u001b[0m               \u001b[0;34m\"to\"\u001b[0m\u001b[0;34m:\u001b[0m \u001b[0;34m\"Excited User <mailgun@sandbox69f4b1683cf340f1b876b47ae74e0d74.mailgun.org>\"\u001b[0m\u001b[0;34m,\u001b[0m\u001b[0;34m\u001b[0m\u001b[0m\n",
      "\u001b[0;31mNameError\u001b[0m: name 'mailgun_key' is not defined"
     ]
    }
   ],
   "source": [
    "response = requests.post(\n",
    "        \"https://api.mailgun.net/v3/sandboxf739b30cd9aa47bf9fb818fc4c6883da.mailgun.org/messages\",\n",
    "        auth=(\"api\", mailgun_key),\n",
    "        data={\"from\": \"Excited User <mailgun@sandbox69f4b1683cf340f1b876b47ae74e0d74.mailgun.org>\",\n",
    "              \"to\": \"Excited User <mailgun@sandbox69f4b1683cf340f1b876b47ae74e0d74.mailgun.org>\",\n",
    "              \"subject\": \"Hello\",\n",
    "              \"text\": \"Testing some Mailgun awesomness!\"})\n",
    "\n",
    "response.text"
   ]
  },
  {
   "cell_type": "code",
   "execution_count": null,
   "metadata": {},
   "outputs": [],
   "source": []
  }
 ],
 "metadata": {
  "kernelspec": {
   "display_name": "Python 3",
   "language": "python",
   "name": "python3"
  },
  "language_info": {
   "codemirror_mode": {
    "name": "ipython",
    "version": 3
   },
   "file_extension": ".py",
   "mimetype": "text/x-python",
   "name": "python",
   "nbconvert_exporter": "python",
   "pygments_lexer": "ipython3",
   "version": "3.6.5"
  }
 },
 "nbformat": 4,
 "nbformat_minor": 2
}
