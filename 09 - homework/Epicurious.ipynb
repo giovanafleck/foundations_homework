{
 "cells": [
  {
   "cell_type": "code",
   "execution_count": 1,
   "metadata": {},
   "outputs": [],
   "source": [
    "import pandas as pd\n",
    "import requests\n",
    "from bs4 import BeautifulSoup"
   ]
  },
  {
   "cell_type": "code",
   "execution_count": 2,
   "metadata": {},
   "outputs": [],
   "source": [
    "response = requests.get('https://www.epicurious.com/search/cucumbers')\n",
    "doc = BeautifulSoup(response.text)"
   ]
  },
  {
   "cell_type": "code",
   "execution_count": 3,
   "metadata": {},
   "outputs": [
    {
     "name": "stdout",
     "output_type": "stream",
     "text": [
      "recipe\n",
      "recipe\n",
      "recipe\n",
      "recipe\n",
      "recipe\n",
      "recipe\n",
      "recipe\n",
      "recipe\n",
      "recipe\n",
      "recipe\n",
      "recipe\n",
      "recipe\n",
      "recipe\n",
      "recipe\n",
      "recipe\n",
      "article\n",
      "recipe\n",
      "article\n"
     ]
    }
   ],
   "source": [
    "categories = doc.find_all(class_='tag')\n",
    "for category in categories:\n",
    "    print(category.string)"
   ]
  },
  {
   "cell_type": "code",
   "execution_count": 4,
   "metadata": {},
   "outputs": [
    {
     "name": "stdout",
     "output_type": "stream",
     "text": [
      "Spicy Lightly Pickled Cucumbers\n",
      "Cucumbers with Ajo Blanco Sauce\n",
      "Cold Beef Tenderloin with Tomatoes and Cucumbers\n",
      "Fried Fish Sandwiches with Cucumbers and Tartar Sauce\n",
      "Grain Salad with Tomatoes and Cucumbers\n",
      "Charred Cabbage with Goat Cheese Raita and Cucumbers\n",
      "Cucumber-Seaweed Salad\n",
      "Pineapple Shrimp Noodle Bowls\n",
      "Sambal Shrimp Lettuce Wraps\n",
      "Smashed Cucumber Salad with Lemon and Celery Salt\n",
      "Thai-Style Squid and Cucumber Salad\n",
      "Spicy Grilled Chicken with Crunchy Fennel Salad\n",
      "Lemon Salmon with Creamy Cucumber Salad\n",
      "Smashed Cucumber Salad with Hot Vinegar\n",
      "Sam's Spring Fattoush Salad\n",
      "Everything You Don't Know About Electric Knives\n",
      "Skirt Steak with Spicy Coconut Dressing\n",
      "Weekly Meal Plan: March 11–15\n"
     ]
    }
   ],
   "source": [
    "titles = doc.find_all(class_='hed')\n",
    "for title in titles:\n",
    "    print(title.string)"
   ]
  },
  {
   "cell_type": "code",
   "execution_count": 5,
   "metadata": {},
   "outputs": [
    {
     "name": "stdout",
     "output_type": "stream",
     "text": [
      "recipeSpicy Lightly Pickled CucumbersThese quick pickles have just the right amount of sweet, salt, and tang going on. The brine can work with any crunchy veg, but we like them best with cucumbers. We guarantee they'll be the sleeper hit of your next party spread.Average user rating4/4Reviews1Percentage of reviewers who will make this recipe again100%\n",
      "recipeCucumbers with Ajo Blanco SauceThink of this as an all-purpose garlic sauce. Once you get the hang of making it, try swapping cashews or blanched hazelnuts for the almonds.Average user rating4/4Reviews1Percentage of reviewers who will make this recipe again100%\n",
      "recipeCold Beef Tenderloin with Tomatoes and CucumbersBeef tenderloin is precious enough to baby on a two-zone grill: Sear it over high heat, then transfer it to the cooler side and turn it often to hit a perfect medium-rare.Average user rating2/4Reviews1Percentage of reviewers who will make this recipe again0%\n",
      "recipeFried Fish Sandwiches with Cucumbers and Tartar SauceTake your cast-iron pan to the grill for this classically flavored crispy fish sandwich recipe (or, if you don’t have a grill, fire up the stove—the breeze won’t be the same, but the sandwich will still be delicious).Average user rating3/4Reviews8Percentage of reviewers who will make this recipe again100%\n",
      "recipeGrain Salad with Tomatoes and CucumbersWe call for semi-pearled grains because they cook more quickly and have a roughened-up texture that helps them soak up the dressing. Browning them first deepens their flavor.Average user rating3/4Reviews1Percentage of reviewers who will make this recipe again100%\n",
      "recipeCharred Cabbage with Goat Cheese Raita and CucumbersGo hard when charring the cabbage wedges—to the point you might think you did something wrong. They are dense and resilient and need a long time on the grill to soften.Average user rating2/4Reviews1Percentage of reviewers who will make this recipe again0%\n",
      "recipeCucumber-Seaweed SaladA ginger and coconut aminos dressing brings together this healthful salad of crunchy cucumbers and toothsome seaweed.Average user rating0/4Reviews0Percentage of reviewers who will make this recipe again0%\n",
      "recipePineapple Shrimp Noodle BowlsQuickly caramelized pineapple and sautéed shrimp are tossed in a sweet and sour sauce with lots of fresh basil and spooned over rice noodles for a quick dinner that beats takeout any day.Average user rating3.5/4Reviews11Percentage of reviewers who will make this recipe again73%\n",
      "recipeSambal Shrimp Lettuce WrapsThe shrimp cooks in minutes, so while it’s marinating,  set out a platter of lettuce cups, mint sprigs, chopped peanuts, sliced cucumbers, and the reserved sauce.Average user rating3.5/4Reviews2Percentage of reviewers who will make this recipe again50%\n",
      "recipeSmashed Cucumber Salad with Lemon and Celery SaltIf you have ever peeled, seeded, and sliced cucumbers for salads, this recipe will hopefully change your mind. Smashing the cucumbers augments the vegetable's ability to absorb seasonings.Average user rating0/4Reviews0Percentage of reviewers who will make this recipe again0%\n",
      "recipeThai-Style Squid and Cucumber SaladTossed with crunchy cucumbers, peanuts, and fresh red chiles, this salad makes a refreshing summer dinner spooned over rice or all on its own.Average user rating2.5/4Reviews2Percentage of reviewers who will make this recipe again50%\n",
      "recipeSpicy Grilled Chicken with Crunchy Fennel SaladThis chicken packs some heat, which is why we paired it with a superclean and cooling crisp fennel salad. If fennel is not your thing, any shaved crunchy veg will do. Try radishes, carrots, or cucumbers instead.Average user rating4/4Reviews1Percentage of reviewers who will make this recipe again100%\n",
      "recipeLemon Salmon with Creamy Cucumber SaladMarinate salmon in lemon zest and fresh dill, then grill and serve with crunchy chopped cucumbers draped in a coleslaw-like dressing.Average user rating2.5/4Reviews5Percentage of reviewers who will make this recipe again60%\n",
      "recipeSmashed Cucumber Salad with Hot VinegarCucumbers are practically all water, so you gotta dress them like you mean it. This hot, sweet, and tart dressing will have them covered.Average user rating0/4Reviews0Percentage of reviewers who will make this recipe again0%\n",
      "recipeSam's Spring Fattoush SaladPart of what makes this salad so great is the dynamic textures; the cracker-like baked lavash croutons and the crunchy cucumbers and radishes contrast with the creamy feta and soft herbs.Average user rating4/4Reviews7Percentage of reviewers who will make this recipe again100%\n",
      "articleEverything You Don't Know About Electric KnivesThe history isn't pretty.\n",
      "recipeSkirt Steak with Spicy Coconut DressingThis recipe is exceptionally weeknight-friendly (it goes from start to finish in less than an hour) and fully adaptable depending on the tastes of your family.Average user rating4/4Reviews4Percentage of reviewers who will make this recipe again100%\n",
      "articleWeekly Meal Plan: March 11–15A Sunday frittata, impromptu Pu Pu, and a super-easy steak night.\n"
     ]
    }
   ],
   "source": [
    "summaries = doc.find_all(class_='summary')\n",
    "for summary in summaries:\n",
    "    print(summary.text)"
   ]
  },
  {
   "cell_type": "code",
   "execution_count": 6,
   "metadata": {},
   "outputs": [
    {
     "name": "stdout",
     "output_type": "stream",
     "text": [
      "4/4\n",
      "4/4\n",
      "2/4\n",
      "3/4\n",
      "3/4\n",
      "2/4\n",
      "0/4\n",
      "3.5/4\n",
      "3.5/4\n",
      "0/4\n",
      "2.5/4\n",
      "4/4\n",
      "2.5/4\n",
      "0/4\n",
      "4/4\n",
      "4/4\n"
     ]
    }
   ],
   "source": [
    "ratings = doc.find_all(class_='rating')\n",
    "for rating in ratings:\n",
    "    print(rating.text)"
   ]
  },
  {
   "cell_type": "code",
   "execution_count": 7,
   "metadata": {},
   "outputs": [
    {
     "name": "stdout",
     "output_type": "stream",
     "text": [
      "100%\n",
      "100%\n",
      "0%\n",
      "100%\n",
      "100%\n",
      "0%\n",
      "0%\n",
      "73%\n",
      "50%\n",
      "0%\n",
      "50%\n",
      "100%\n",
      "60%\n",
      "0%\n",
      "100%\n",
      "100%\n"
     ]
    }
   ],
   "source": [
    "#Would make it again(wma)\n",
    "wmas= doc.find_all(class_='make-again-percentage')\n",
    "for wma in wmas:\n",
    "    print(wma.text)"
   ]
  },
  {
   "cell_type": "code",
   "execution_count": 24,
   "metadata": {},
   "outputs": [],
   "source": [
    "links = doc.find_all(class_='media_link')\n",
    "for link in links:\n",
    "    print(link['href'])"
   ]
  },
  {
   "cell_type": "code",
   "execution_count": 33,
   "metadata": {},
   "outputs": [
    {
     "name": "stdout",
     "output_type": "stream",
     "text": [
      "I am scraping https://www.epicurious.com/search/cucumbers\n",
      "{'categories': [<strong class=\"tag\" data-reactid=\"70\">recipe</strong>, <strong class=\"tag\" data-reactid=\"103\">recipe</strong>, <strong class=\"tag\" data-reactid=\"136\">recipe</strong>, <strong class=\"tag\" data-reactid=\"169\">recipe</strong>, <strong class=\"tag\" data-reactid=\"202\">recipe</strong>, <strong class=\"tag\" data-reactid=\"235\">recipe</strong>, <strong class=\"tag\" data-reactid=\"268\">recipe</strong>, <strong class=\"tag\" data-reactid=\"301\">recipe</strong>, <strong class=\"tag\" data-reactid=\"334\">recipe</strong>, <strong class=\"tag\" data-reactid=\"367\">recipe</strong>, <strong class=\"tag\" data-reactid=\"400\">recipe</strong>, <strong class=\"tag\" data-reactid=\"433\">recipe</strong>, <strong class=\"tag\" data-reactid=\"466\">recipe</strong>, <strong class=\"tag\" data-reactid=\"499\">recipe</strong>, <strong class=\"tag\" data-reactid=\"532\">recipe</strong>, <strong class=\"tag\" data-reactid=\"565\">article</strong>, <strong class=\"tag\" data-reactid=\"578\">recipe</strong>, <strong class=\"tag\" data-reactid=\"611\">article</strong>], 'titles': [<h4 class=\"hed\" data-reactid=\"71\" data-truncate=\"3\" itemprop=\"name\"><a data-reactid=\"72\" href=\"/recipes/food/views/spicy-lightly-pickled-cucumbers\">Spicy Lightly Pickled Cucumbers</a></h4>, <h4 class=\"hed\" data-reactid=\"104\" data-truncate=\"3\" itemprop=\"name\"><a data-reactid=\"105\" href=\"/recipes/food/views/cucumbers-with-ajo-blanco-sauce\">Cucumbers with Ajo Blanco Sauce</a></h4>, <h4 class=\"hed\" data-reactid=\"137\" data-truncate=\"3\" itemprop=\"name\"><a data-reactid=\"138\" href=\"/recipes/food/views/cold-beef-tenderloin-with-tomatoes-and-cucumbers\">Cold Beef Tenderloin with Tomatoes and Cucumbers</a></h4>, <h4 class=\"hed\" data-reactid=\"170\" data-truncate=\"3\" itemprop=\"name\"><a data-reactid=\"171\" href=\"/recipes/food/views/fried-fish-sandwiches-with-cucumbers-and-tartar-sauce\">Fried Fish Sandwiches with Cucumbers and Tartar Sauce</a></h4>, <h4 class=\"hed\" data-reactid=\"203\" data-truncate=\"3\" itemprop=\"name\"><a data-reactid=\"204\" href=\"/recipes/food/views/farro-spelt-grain-salad-with-tomatoes-and-cucumbers\">Grain Salad with Tomatoes and Cucumbers</a></h4>, <h4 class=\"hed\" data-reactid=\"236\" data-truncate=\"3\" itemprop=\"name\"><a data-reactid=\"237\" href=\"/recipes/food/views/grilled-charred-cabbage-with-goat-cheese-raita-and-cucumbers\">Charred Cabbage with Goat Cheese Raita and Cucumbers</a></h4>, <h4 class=\"hed\" data-reactid=\"269\" data-truncate=\"3\" itemprop=\"name\"><a data-reactid=\"270\" href=\"/recipes/food/views/cucumber-seaweed-salad\">Cucumber-Seaweed Salad</a></h4>, <h4 class=\"hed\" data-reactid=\"302\" data-truncate=\"3\" itemprop=\"name\"><a data-reactid=\"303\" href=\"/recipes/food/views/pineapple-shrimp-noodle-bowls\">Pineapple Shrimp Noodle Bowls</a></h4>, <h4 class=\"hed\" data-reactid=\"335\" data-truncate=\"3\" itemprop=\"name\"><a data-reactid=\"336\" href=\"/recipes/food/views/sambal-shrimp-lettuce-wraps\">Sambal Shrimp Lettuce Wraps</a></h4>, <h4 class=\"hed\" data-reactid=\"368\" data-truncate=\"3\" itemprop=\"name\"><a data-reactid=\"369\" href=\"/recipes/food/views/smashed-cucumber-salad-with-lemon-and-celery-salt\">Smashed Cucumber Salad with Lemon and Celery Salt</a></h4>, <h4 class=\"hed\" data-reactid=\"401\" data-truncate=\"3\" itemprop=\"name\"><a data-reactid=\"402\" href=\"/recipes/food/views/thai-style-squid-and-cucumber-salad\">Thai-Style Squid and Cucumber Salad</a></h4>, <h4 class=\"hed\" data-reactid=\"434\" data-truncate=\"3\" itemprop=\"name\"><a data-reactid=\"435\" href=\"/recipes/food/views/spicy-grilled-chicken-with-crunchy-fennel-salad\">Spicy Grilled Chicken with Crunchy Fennel Salad</a></h4>, <h4 class=\"hed\" data-reactid=\"467\" data-truncate=\"3\" itemprop=\"name\"><a data-reactid=\"468\" href=\"/recipes/food/views/grilled-salmon-with-meyer-lemons-and-creamy-cucumber-salad\">Lemon Salmon with Creamy Cucumber Salad</a></h4>, <h4 class=\"hed\" data-reactid=\"500\" data-truncate=\"3\" itemprop=\"name\"><a data-reactid=\"501\" href=\"/recipes/food/views/smashed-cucumber-salad-with-hot-vinegar\">Smashed Cucumber Salad with Hot Vinegar</a></h4>, <h4 class=\"hed\" data-reactid=\"533\" data-truncate=\"3\" itemprop=\"name\"><a data-reactid=\"534\" href=\"/recipes/food/views/sams-spring-cucumber-radish-fattoush-salad\">Sam's Spring Fattoush Salad</a></h4>, <h4 class=\"hed\" data-reactid=\"566\" data-truncate=\"3\" itemprop=\"name\"><a data-reactid=\"567\" href=\"/expert-advice/how-to-handle-electric-knife-article\">Everything You Don't Know About Electric Knives</a></h4>, <h4 class=\"hed\" data-reactid=\"579\" data-truncate=\"3\" itemprop=\"name\"><a data-reactid=\"580\" href=\"/recipes/food/views/skirt-steak-with-spicy-coconut-dressing\">Skirt Steak with Spicy Coconut Dressing</a></h4>, <h4 class=\"hed\" data-reactid=\"612\" data-truncate=\"3\" itemprop=\"name\"><a data-reactid=\"613\" href=\"/expert-advice/weekly-meal-plan-sunday-frittata-impromptu-pu-pu-and-a-super-easy-steak-night-article\">Weekly Meal Plan: March 11–15</a></h4>], 'summaries': [<header class=\"summary\" data-reactid=\"69\"><strong class=\"tag\" data-reactid=\"70\">recipe</strong><h4 class=\"hed\" data-reactid=\"71\" data-truncate=\"3\" itemprop=\"name\"><a data-reactid=\"72\" href=\"/recipes/food/views/spicy-lightly-pickled-cucumbers\">Spicy Lightly Pickled Cucumbers</a></h4><p class=\"dek\" data-reactid=\"73\" data-truncate=\"1\">These quick pickles have just the right amount of sweet, salt, and tang going on. The brine can work with any crunchy veg, but we like them best with cucumbers. We guarantee they'll be the sleeper hit of your next party spread.</p><dl class=\"recipes-ratings-summary\" data-reactid=\"74\" data-reviews-count=\"1\" data-reviews-rating=\"4\" itemprop=\"aggregateRating\" itemscope=\"\" itemtype=\"https://schema.org/AggregateRating\"><dt class=\"rating-label\" data-reactid=\"75\">Average user rating</dt><span class=\"reviews-count-container\" data-reactid=\"76\"><dd class=\"rating\" data-rating=\"4\" data-reactid=\"77\"><span data-reactid=\"78\" itemprop=\"ratingValue\">4</span><!-- react-text: 79 -->/<!-- /react-text --><span data-reactid=\"80\" itemprop=\"bestRating\">4</span><meta content=\"0\" data-reactid=\"81\" itemprop=\"worstRating\"/></dd><dt class=\"reviews-count-label\" data-reactid=\"82\">Reviews</dt><dd class=\"reviews-count\" data-reactid=\"83\" itemprop=\"reviewCount\">1</dd></span><span class=\"make-again-container\" data-reactid=\"84\"><dt class=\"make-again-percentage-label\" data-reactid=\"85\">Percentage of reviewers who will make this recipe again</dt><dd class=\"make-again-percentage\" data-reactid=\"86\"><!-- react-text: 87 -->100<!-- /react-text --><!-- react-text: 88 -->%<!-- /react-text --></dd></span></dl></header>, <header class=\"summary\" data-reactid=\"102\"><strong class=\"tag\" data-reactid=\"103\">recipe</strong><h4 class=\"hed\" data-reactid=\"104\" data-truncate=\"3\" itemprop=\"name\"><a data-reactid=\"105\" href=\"/recipes/food/views/cucumbers-with-ajo-blanco-sauce\">Cucumbers with Ajo Blanco Sauce</a></h4><p class=\"dek\" data-reactid=\"106\" data-truncate=\"1\">Think of this as an all-purpose garlic sauce. Once you get the hang of making it, try swapping cashews or blanched hazelnuts for the almonds.</p><dl class=\"recipes-ratings-summary\" data-reactid=\"107\" data-reviews-count=\"1\" data-reviews-rating=\"4\" itemprop=\"aggregateRating\" itemscope=\"\" itemtype=\"https://schema.org/AggregateRating\"><dt class=\"rating-label\" data-reactid=\"108\">Average user rating</dt><span class=\"reviews-count-container\" data-reactid=\"109\"><dd class=\"rating\" data-rating=\"4\" data-reactid=\"110\"><span data-reactid=\"111\" itemprop=\"ratingValue\">4</span><!-- react-text: 112 -->/<!-- /react-text --><span data-reactid=\"113\" itemprop=\"bestRating\">4</span><meta content=\"0\" data-reactid=\"114\" itemprop=\"worstRating\"/></dd><dt class=\"reviews-count-label\" data-reactid=\"115\">Reviews</dt><dd class=\"reviews-count\" data-reactid=\"116\" itemprop=\"reviewCount\">1</dd></span><span class=\"make-again-container\" data-reactid=\"117\"><dt class=\"make-again-percentage-label\" data-reactid=\"118\">Percentage of reviewers who will make this recipe again</dt><dd class=\"make-again-percentage\" data-reactid=\"119\"><!-- react-text: 120 -->100<!-- /react-text --><!-- react-text: 121 -->%<!-- /react-text --></dd></span></dl></header>, <header class=\"summary\" data-reactid=\"135\"><strong class=\"tag\" data-reactid=\"136\">recipe</strong><h4 class=\"hed\" data-reactid=\"137\" data-truncate=\"3\" itemprop=\"name\"><a data-reactid=\"138\" href=\"/recipes/food/views/cold-beef-tenderloin-with-tomatoes-and-cucumbers\">Cold Beef Tenderloin with Tomatoes and Cucumbers</a></h4><p class=\"dek\" data-reactid=\"139\" data-truncate=\"1\">Beef tenderloin is precious enough to baby on a two-zone grill: Sear it over high heat, then transfer it to the cooler side and turn it often to hit a perfect medium-rare.</p><dl class=\"recipes-ratings-summary\" data-reactid=\"140\" data-reviews-count=\"1\" data-reviews-rating=\"2\" itemprop=\"aggregateRating\" itemscope=\"\" itemtype=\"https://schema.org/AggregateRating\"><dt class=\"rating-label\" data-reactid=\"141\">Average user rating</dt><span class=\"reviews-count-container\" data-reactid=\"142\"><dd class=\"rating\" data-rating=\"2\" data-reactid=\"143\"><span data-reactid=\"144\" itemprop=\"ratingValue\">2</span><!-- react-text: 145 -->/<!-- /react-text --><span data-reactid=\"146\" itemprop=\"bestRating\">4</span><meta content=\"0\" data-reactid=\"147\" itemprop=\"worstRating\"/></dd><dt class=\"reviews-count-label\" data-reactid=\"148\">Reviews</dt><dd class=\"reviews-count\" data-reactid=\"149\" itemprop=\"reviewCount\">1</dd></span><span class=\"make-again-container\" data-reactid=\"150\"><dt class=\"make-again-percentage-label\" data-reactid=\"151\">Percentage of reviewers who will make this recipe again</dt><dd class=\"make-again-percentage\" data-reactid=\"152\"><!-- react-text: 153 -->0<!-- /react-text --><!-- react-text: 154 -->%<!-- /react-text --></dd></span></dl></header>, <header class=\"summary\" data-reactid=\"168\"><strong class=\"tag\" data-reactid=\"169\">recipe</strong><h4 class=\"hed\" data-reactid=\"170\" data-truncate=\"3\" itemprop=\"name\"><a data-reactid=\"171\" href=\"/recipes/food/views/fried-fish-sandwiches-with-cucumbers-and-tartar-sauce\">Fried Fish Sandwiches with Cucumbers and Tartar Sauce</a></h4><p class=\"dek\" data-reactid=\"172\" data-truncate=\"1\">Take your cast-iron pan to the grill for this classically flavored crispy fish sandwich recipe (or, if you don’t have a grill, fire up the stove—the breeze won’t be the same, but the sandwich will still be delicious).</p><dl class=\"recipes-ratings-summary\" data-reactid=\"173\" data-reviews-count=\"8\" data-reviews-rating=\"3\" itemprop=\"aggregateRating\" itemscope=\"\" itemtype=\"https://schema.org/AggregateRating\"><dt class=\"rating-label\" data-reactid=\"174\">Average user rating</dt><span class=\"reviews-count-container\" data-reactid=\"175\"><dd class=\"rating\" data-rating=\"3\" data-reactid=\"176\"><span data-reactid=\"177\" itemprop=\"ratingValue\">3</span><!-- react-text: 178 -->/<!-- /react-text --><span data-reactid=\"179\" itemprop=\"bestRating\">4</span><meta content=\"0\" data-reactid=\"180\" itemprop=\"worstRating\"/></dd><dt class=\"reviews-count-label\" data-reactid=\"181\">Reviews</dt><dd class=\"reviews-count\" data-reactid=\"182\" itemprop=\"reviewCount\">8</dd></span><span class=\"make-again-container\" data-reactid=\"183\"><dt class=\"make-again-percentage-label\" data-reactid=\"184\">Percentage of reviewers who will make this recipe again</dt><dd class=\"make-again-percentage\" data-reactid=\"185\"><!-- react-text: 186 -->100<!-- /react-text --><!-- react-text: 187 -->%<!-- /react-text --></dd></span></dl></header>, <header class=\"summary\" data-reactid=\"201\"><strong class=\"tag\" data-reactid=\"202\">recipe</strong><h4 class=\"hed\" data-reactid=\"203\" data-truncate=\"3\" itemprop=\"name\"><a data-reactid=\"204\" href=\"/recipes/food/views/farro-spelt-grain-salad-with-tomatoes-and-cucumbers\">Grain Salad with Tomatoes and Cucumbers</a></h4><p class=\"dek\" data-reactid=\"205\" data-truncate=\"1\">We call for semi-pearled grains because they cook more quickly and have a roughened-up texture that helps them soak up the dressing. Browning them first deepens their flavor.</p><dl class=\"recipes-ratings-summary\" data-reactid=\"206\" data-reviews-count=\"1\" data-reviews-rating=\"3\" itemprop=\"aggregateRating\" itemscope=\"\" itemtype=\"https://schema.org/AggregateRating\"><dt class=\"rating-label\" data-reactid=\"207\">Average user rating</dt><span class=\"reviews-count-container\" data-reactid=\"208\"><dd class=\"rating\" data-rating=\"3\" data-reactid=\"209\"><span data-reactid=\"210\" itemprop=\"ratingValue\">3</span><!-- react-text: 211 -->/<!-- /react-text --><span data-reactid=\"212\" itemprop=\"bestRating\">4</span><meta content=\"0\" data-reactid=\"213\" itemprop=\"worstRating\"/></dd><dt class=\"reviews-count-label\" data-reactid=\"214\">Reviews</dt><dd class=\"reviews-count\" data-reactid=\"215\" itemprop=\"reviewCount\">1</dd></span><span class=\"make-again-container\" data-reactid=\"216\"><dt class=\"make-again-percentage-label\" data-reactid=\"217\">Percentage of reviewers who will make this recipe again</dt><dd class=\"make-again-percentage\" data-reactid=\"218\"><!-- react-text: 219 -->100<!-- /react-text --><!-- react-text: 220 -->%<!-- /react-text --></dd></span></dl></header>, <header class=\"summary\" data-reactid=\"234\"><strong class=\"tag\" data-reactid=\"235\">recipe</strong><h4 class=\"hed\" data-reactid=\"236\" data-truncate=\"3\" itemprop=\"name\"><a data-reactid=\"237\" href=\"/recipes/food/views/grilled-charred-cabbage-with-goat-cheese-raita-and-cucumbers\">Charred Cabbage with Goat Cheese Raita and Cucumbers</a></h4><p class=\"dek\" data-reactid=\"238\" data-truncate=\"1\">Go hard when charring the cabbage wedges—to the point you might think you did something wrong. They are dense and resilient and need a long time on the grill to soften.</p><dl class=\"recipes-ratings-summary\" data-reactid=\"239\" data-reviews-count=\"1\" data-reviews-rating=\"2\" itemprop=\"aggregateRating\" itemscope=\"\" itemtype=\"https://schema.org/AggregateRating\"><dt class=\"rating-label\" data-reactid=\"240\">Average user rating</dt><span class=\"reviews-count-container\" data-reactid=\"241\"><dd class=\"rating\" data-rating=\"2\" data-reactid=\"242\"><span data-reactid=\"243\" itemprop=\"ratingValue\">2</span><!-- react-text: 244 -->/<!-- /react-text --><span data-reactid=\"245\" itemprop=\"bestRating\">4</span><meta content=\"0\" data-reactid=\"246\" itemprop=\"worstRating\"/></dd><dt class=\"reviews-count-label\" data-reactid=\"247\">Reviews</dt><dd class=\"reviews-count\" data-reactid=\"248\" itemprop=\"reviewCount\">1</dd></span><span class=\"make-again-container\" data-reactid=\"249\"><dt class=\"make-again-percentage-label\" data-reactid=\"250\">Percentage of reviewers who will make this recipe again</dt><dd class=\"make-again-percentage\" data-reactid=\"251\"><!-- react-text: 252 -->0<!-- /react-text --><!-- react-text: 253 -->%<!-- /react-text --></dd></span></dl></header>, <header class=\"summary\" data-reactid=\"267\"><strong class=\"tag\" data-reactid=\"268\">recipe</strong><h4 class=\"hed\" data-reactid=\"269\" data-truncate=\"3\" itemprop=\"name\"><a data-reactid=\"270\" href=\"/recipes/food/views/cucumber-seaweed-salad\">Cucumber-Seaweed Salad</a></h4><p class=\"dek\" data-reactid=\"271\" data-truncate=\"1\">A ginger and coconut aminos dressing brings together this healthful salad of crunchy cucumbers and toothsome seaweed.</p><dl class=\"recipes-ratings-summary\" data-reactid=\"272\" data-reviews-count=\"0\" data-reviews-rating=\"0\" itemprop=\"aggregateRating\" itemscope=\"\" itemtype=\"https://schema.org/AggregateRating\"><dt class=\"rating-label\" data-reactid=\"273\">Average user rating</dt><span class=\"reviews-count-container\" data-reactid=\"274\"><dd class=\"rating\" data-rating=\"unrated\" data-reactid=\"275\"><span data-reactid=\"276\" itemprop=\"ratingValue\">0</span><!-- react-text: 277 -->/<!-- /react-text --><span data-reactid=\"278\" itemprop=\"bestRating\">4</span><meta content=\"0\" data-reactid=\"279\" itemprop=\"worstRating\"/></dd><dt class=\"reviews-count-label\" data-reactid=\"280\">Reviews</dt><dd class=\"reviews-count\" data-reactid=\"281\" itemprop=\"reviewCount\">0</dd></span><span class=\"make-again-container\" data-reactid=\"282\"><dt class=\"make-again-percentage-label\" data-reactid=\"283\">Percentage of reviewers who will make this recipe again</dt><dd class=\"make-again-percentage\" data-reactid=\"284\"><!-- react-text: 285 -->0<!-- /react-text --><!-- react-text: 286 -->%<!-- /react-text --></dd></span></dl></header>, <header class=\"summary\" data-reactid=\"300\"><strong class=\"tag\" data-reactid=\"301\">recipe</strong><h4 class=\"hed\" data-reactid=\"302\" data-truncate=\"3\" itemprop=\"name\"><a data-reactid=\"303\" href=\"/recipes/food/views/pineapple-shrimp-noodle-bowls\">Pineapple Shrimp Noodle Bowls</a></h4><p class=\"dek\" data-reactid=\"304\" data-truncate=\"1\">Quickly caramelized pineapple and sautéed shrimp are tossed in a sweet and sour sauce with lots of fresh basil and spooned over rice noodles for a quick dinner that beats takeout any day.</p><dl class=\"recipes-ratings-summary\" data-reactid=\"305\" data-reviews-count=\"11\" data-reviews-rating=\"3.36\" itemprop=\"aggregateRating\" itemscope=\"\" itemtype=\"https://schema.org/AggregateRating\"><dt class=\"rating-label\" data-reactid=\"306\">Average user rating</dt><span class=\"reviews-count-container\" data-reactid=\"307\"><dd class=\"rating\" data-rating=\"3.5\" data-reactid=\"308\"><span data-reactid=\"309\" itemprop=\"ratingValue\">3.5</span><!-- react-text: 310 -->/<!-- /react-text --><span data-reactid=\"311\" itemprop=\"bestRating\">4</span><meta content=\"0\" data-reactid=\"312\" itemprop=\"worstRating\"/></dd><dt class=\"reviews-count-label\" data-reactid=\"313\">Reviews</dt><dd class=\"reviews-count\" data-reactid=\"314\" itemprop=\"reviewCount\">11</dd></span><span class=\"make-again-container\" data-reactid=\"315\"><dt class=\"make-again-percentage-label\" data-reactid=\"316\">Percentage of reviewers who will make this recipe again</dt><dd class=\"make-again-percentage\" data-reactid=\"317\"><!-- react-text: 318 -->73<!-- /react-text --><!-- react-text: 319 -->%<!-- /react-text --></dd></span></dl></header>, <header class=\"summary\" data-reactid=\"333\"><strong class=\"tag\" data-reactid=\"334\">recipe</strong><h4 class=\"hed\" data-reactid=\"335\" data-truncate=\"3\" itemprop=\"name\"><a data-reactid=\"336\" href=\"/recipes/food/views/sambal-shrimp-lettuce-wraps\">Sambal Shrimp Lettuce Wraps</a></h4><p class=\"dek\" data-reactid=\"337\" data-truncate=\"1\">The shrimp cooks in minutes, so while it’s marinating,  set out a platter of lettuce cups, mint sprigs, chopped peanuts, sliced cucumbers, and the reserved sauce.</p><dl class=\"recipes-ratings-summary\" data-reactid=\"338\" data-reviews-count=\"2\" data-reviews-rating=\"3.5\" itemprop=\"aggregateRating\" itemscope=\"\" itemtype=\"https://schema.org/AggregateRating\"><dt class=\"rating-label\" data-reactid=\"339\">Average user rating</dt><span class=\"reviews-count-container\" data-reactid=\"340\"><dd class=\"rating\" data-rating=\"3.5\" data-reactid=\"341\"><span data-reactid=\"342\" itemprop=\"ratingValue\">3.5</span><!-- react-text: 343 -->/<!-- /react-text --><span data-reactid=\"344\" itemprop=\"bestRating\">4</span><meta content=\"0\" data-reactid=\"345\" itemprop=\"worstRating\"/></dd><dt class=\"reviews-count-label\" data-reactid=\"346\">Reviews</dt><dd class=\"reviews-count\" data-reactid=\"347\" itemprop=\"reviewCount\">2</dd></span><span class=\"make-again-container\" data-reactid=\"348\"><dt class=\"make-again-percentage-label\" data-reactid=\"349\">Percentage of reviewers who will make this recipe again</dt><dd class=\"make-again-percentage\" data-reactid=\"350\"><!-- react-text: 351 -->50<!-- /react-text --><!-- react-text: 352 -->%<!-- /react-text --></dd></span></dl></header>, <header class=\"summary\" data-reactid=\"366\"><strong class=\"tag\" data-reactid=\"367\">recipe</strong><h4 class=\"hed\" data-reactid=\"368\" data-truncate=\"3\" itemprop=\"name\"><a data-reactid=\"369\" href=\"/recipes/food/views/smashed-cucumber-salad-with-lemon-and-celery-salt\">Smashed Cucumber Salad with Lemon and Celery Salt</a></h4><p class=\"dek\" data-reactid=\"370\" data-truncate=\"1\">If you have ever peeled, seeded, and sliced cucumbers for salads, this recipe will hopefully change your mind. Smashing the cucumbers augments the vegetable's ability to absorb seasonings.</p><dl class=\"recipes-ratings-summary\" data-reactid=\"371\" data-reviews-count=\"0\" data-reviews-rating=\"0\" itemprop=\"aggregateRating\" itemscope=\"\" itemtype=\"https://schema.org/AggregateRating\"><dt class=\"rating-label\" data-reactid=\"372\">Average user rating</dt><span class=\"reviews-count-container\" data-reactid=\"373\"><dd class=\"rating\" data-rating=\"unrated\" data-reactid=\"374\"><span data-reactid=\"375\" itemprop=\"ratingValue\">0</span><!-- react-text: 376 -->/<!-- /react-text --><span data-reactid=\"377\" itemprop=\"bestRating\">4</span><meta content=\"0\" data-reactid=\"378\" itemprop=\"worstRating\"/></dd><dt class=\"reviews-count-label\" data-reactid=\"379\">Reviews</dt><dd class=\"reviews-count\" data-reactid=\"380\" itemprop=\"reviewCount\">0</dd></span><span class=\"make-again-container\" data-reactid=\"381\"><dt class=\"make-again-percentage-label\" data-reactid=\"382\">Percentage of reviewers who will make this recipe again</dt><dd class=\"make-again-percentage\" data-reactid=\"383\"><!-- react-text: 384 -->0<!-- /react-text --><!-- react-text: 385 -->%<!-- /react-text --></dd></span></dl></header>, <header class=\"summary\" data-reactid=\"399\"><strong class=\"tag\" data-reactid=\"400\">recipe</strong><h4 class=\"hed\" data-reactid=\"401\" data-truncate=\"3\" itemprop=\"name\"><a data-reactid=\"402\" href=\"/recipes/food/views/thai-style-squid-and-cucumber-salad\">Thai-Style Squid and Cucumber Salad</a></h4><p class=\"dek\" data-reactid=\"403\" data-truncate=\"1\">Tossed with crunchy cucumbers, peanuts, and fresh red chiles, this salad makes a refreshing summer dinner spooned over rice or all on its own.</p><dl class=\"recipes-ratings-summary\" data-reactid=\"404\" data-reviews-count=\"2\" data-reviews-rating=\"2.5\" itemprop=\"aggregateRating\" itemscope=\"\" itemtype=\"https://schema.org/AggregateRating\"><dt class=\"rating-label\" data-reactid=\"405\">Average user rating</dt><span class=\"reviews-count-container\" data-reactid=\"406\"><dd class=\"rating\" data-rating=\"2.5\" data-reactid=\"407\"><span data-reactid=\"408\" itemprop=\"ratingValue\">2.5</span><!-- react-text: 409 -->/<!-- /react-text --><span data-reactid=\"410\" itemprop=\"bestRating\">4</span><meta content=\"0\" data-reactid=\"411\" itemprop=\"worstRating\"/></dd><dt class=\"reviews-count-label\" data-reactid=\"412\">Reviews</dt><dd class=\"reviews-count\" data-reactid=\"413\" itemprop=\"reviewCount\">2</dd></span><span class=\"make-again-container\" data-reactid=\"414\"><dt class=\"make-again-percentage-label\" data-reactid=\"415\">Percentage of reviewers who will make this recipe again</dt><dd class=\"make-again-percentage\" data-reactid=\"416\"><!-- react-text: 417 -->50<!-- /react-text --><!-- react-text: 418 -->%<!-- /react-text --></dd></span></dl></header>, <header class=\"summary\" data-reactid=\"432\"><strong class=\"tag\" data-reactid=\"433\">recipe</strong><h4 class=\"hed\" data-reactid=\"434\" data-truncate=\"3\" itemprop=\"name\"><a data-reactid=\"435\" href=\"/recipes/food/views/spicy-grilled-chicken-with-crunchy-fennel-salad\">Spicy Grilled Chicken with Crunchy Fennel Salad</a></h4><p class=\"dek\" data-reactid=\"436\" data-truncate=\"1\">This chicken packs some heat, which is why we paired it with a superclean and cooling crisp fennel salad. If fennel is not your thing, any shaved crunchy veg will do. Try radishes, carrots, or cucumbers instead.</p><dl class=\"recipes-ratings-summary\" data-reactid=\"437\" data-reviews-count=\"1\" data-reviews-rating=\"4\" itemprop=\"aggregateRating\" itemscope=\"\" itemtype=\"https://schema.org/AggregateRating\"><dt class=\"rating-label\" data-reactid=\"438\">Average user rating</dt><span class=\"reviews-count-container\" data-reactid=\"439\"><dd class=\"rating\" data-rating=\"4\" data-reactid=\"440\"><span data-reactid=\"441\" itemprop=\"ratingValue\">4</span><!-- react-text: 442 -->/<!-- /react-text --><span data-reactid=\"443\" itemprop=\"bestRating\">4</span><meta content=\"0\" data-reactid=\"444\" itemprop=\"worstRating\"/></dd><dt class=\"reviews-count-label\" data-reactid=\"445\">Reviews</dt><dd class=\"reviews-count\" data-reactid=\"446\" itemprop=\"reviewCount\">1</dd></span><span class=\"make-again-container\" data-reactid=\"447\"><dt class=\"make-again-percentage-label\" data-reactid=\"448\">Percentage of reviewers who will make this recipe again</dt><dd class=\"make-again-percentage\" data-reactid=\"449\"><!-- react-text: 450 -->100<!-- /react-text --><!-- react-text: 451 -->%<!-- /react-text --></dd></span></dl></header>, <header class=\"summary\" data-reactid=\"465\"><strong class=\"tag\" data-reactid=\"466\">recipe</strong><h4 class=\"hed\" data-reactid=\"467\" data-truncate=\"3\" itemprop=\"name\"><a data-reactid=\"468\" href=\"/recipes/food/views/grilled-salmon-with-meyer-lemons-and-creamy-cucumber-salad\">Lemon Salmon with Creamy Cucumber Salad</a></h4><p class=\"dek\" data-reactid=\"469\" data-truncate=\"1\">Marinate salmon in lemon zest and fresh dill, then grill and serve with crunchy chopped cucumbers draped in a coleslaw-like dressing.</p><dl class=\"recipes-ratings-summary\" data-reactid=\"470\" data-reviews-count=\"5\" data-reviews-rating=\"2.6\" itemprop=\"aggregateRating\" itemscope=\"\" itemtype=\"https://schema.org/AggregateRating\"><dt class=\"rating-label\" data-reactid=\"471\">Average user rating</dt><span class=\"reviews-count-container\" data-reactid=\"472\"><dd class=\"rating\" data-rating=\"2.5\" data-reactid=\"473\"><span data-reactid=\"474\" itemprop=\"ratingValue\">2.5</span><!-- react-text: 475 -->/<!-- /react-text --><span data-reactid=\"476\" itemprop=\"bestRating\">4</span><meta content=\"0\" data-reactid=\"477\" itemprop=\"worstRating\"/></dd><dt class=\"reviews-count-label\" data-reactid=\"478\">Reviews</dt><dd class=\"reviews-count\" data-reactid=\"479\" itemprop=\"reviewCount\">5</dd></span><span class=\"make-again-container\" data-reactid=\"480\"><dt class=\"make-again-percentage-label\" data-reactid=\"481\">Percentage of reviewers who will make this recipe again</dt><dd class=\"make-again-percentage\" data-reactid=\"482\"><!-- react-text: 483 -->60<!-- /react-text --><!-- react-text: 484 -->%<!-- /react-text --></dd></span></dl></header>, <header class=\"summary\" data-reactid=\"498\"><strong class=\"tag\" data-reactid=\"499\">recipe</strong><h4 class=\"hed\" data-reactid=\"500\" data-truncate=\"3\" itemprop=\"name\"><a data-reactid=\"501\" href=\"/recipes/food/views/smashed-cucumber-salad-with-hot-vinegar\">Smashed Cucumber Salad with Hot Vinegar</a></h4><p class=\"dek\" data-reactid=\"502\" data-truncate=\"1\">Cucumbers are practically all water, so you gotta dress them like you mean it. This hot, sweet, and tart dressing will have them covered.</p><dl class=\"recipes-ratings-summary\" data-reactid=\"503\" data-reviews-count=\"0\" data-reviews-rating=\"0\" itemprop=\"aggregateRating\" itemscope=\"\" itemtype=\"https://schema.org/AggregateRating\"><dt class=\"rating-label\" data-reactid=\"504\">Average user rating</dt><span class=\"reviews-count-container\" data-reactid=\"505\"><dd class=\"rating\" data-rating=\"unrated\" data-reactid=\"506\"><span data-reactid=\"507\" itemprop=\"ratingValue\">0</span><!-- react-text: 508 -->/<!-- /react-text --><span data-reactid=\"509\" itemprop=\"bestRating\">4</span><meta content=\"0\" data-reactid=\"510\" itemprop=\"worstRating\"/></dd><dt class=\"reviews-count-label\" data-reactid=\"511\">Reviews</dt><dd class=\"reviews-count\" data-reactid=\"512\" itemprop=\"reviewCount\">0</dd></span><span class=\"make-again-container\" data-reactid=\"513\"><dt class=\"make-again-percentage-label\" data-reactid=\"514\">Percentage of reviewers who will make this recipe again</dt><dd class=\"make-again-percentage\" data-reactid=\"515\"><!-- react-text: 516 -->0<!-- /react-text --><!-- react-text: 517 -->%<!-- /react-text --></dd></span></dl></header>, <header class=\"summary\" data-reactid=\"531\"><strong class=\"tag\" data-reactid=\"532\">recipe</strong><h4 class=\"hed\" data-reactid=\"533\" data-truncate=\"3\" itemprop=\"name\"><a data-reactid=\"534\" href=\"/recipes/food/views/sams-spring-cucumber-radish-fattoush-salad\">Sam's Spring Fattoush Salad</a></h4><p class=\"dek\" data-reactid=\"535\" data-truncate=\"1\">Part of what makes this salad so great is the dynamic textures; the cracker-like baked lavash croutons and the crunchy cucumbers and radishes contrast with the creamy feta and soft herbs.</p><dl class=\"recipes-ratings-summary\" data-reactid=\"536\" data-reviews-count=\"7\" data-reviews-rating=\"3.86\" itemprop=\"aggregateRating\" itemscope=\"\" itemtype=\"https://schema.org/AggregateRating\"><dt class=\"rating-label\" data-reactid=\"537\">Average user rating</dt><span class=\"reviews-count-container\" data-reactid=\"538\"><dd class=\"rating\" data-rating=\"4\" data-reactid=\"539\"><span data-reactid=\"540\" itemprop=\"ratingValue\">4</span><!-- react-text: 541 -->/<!-- /react-text --><span data-reactid=\"542\" itemprop=\"bestRating\">4</span><meta content=\"0\" data-reactid=\"543\" itemprop=\"worstRating\"/></dd><dt class=\"reviews-count-label\" data-reactid=\"544\">Reviews</dt><dd class=\"reviews-count\" data-reactid=\"545\" itemprop=\"reviewCount\">7</dd></span><span class=\"make-again-container\" data-reactid=\"546\"><dt class=\"make-again-percentage-label\" data-reactid=\"547\">Percentage of reviewers who will make this recipe again</dt><dd class=\"make-again-percentage\" data-reactid=\"548\"><!-- react-text: 549 -->100<!-- /react-text --><!-- react-text: 550 -->%<!-- /react-text --></dd></span></dl></header>, <header class=\"summary\" data-reactid=\"564\"><strong class=\"tag\" data-reactid=\"565\">article</strong><h4 class=\"hed\" data-reactid=\"566\" data-truncate=\"3\" itemprop=\"name\"><a data-reactid=\"567\" href=\"/expert-advice/how-to-handle-electric-knife-article\">Everything You Don't Know About Electric Knives</a></h4><p class=\"dek\" data-reactid=\"568\" data-truncate=\"1\">The history isn't pretty.</p></header>, <header class=\"summary\" data-reactid=\"577\"><strong class=\"tag\" data-reactid=\"578\">recipe</strong><h4 class=\"hed\" data-reactid=\"579\" data-truncate=\"3\" itemprop=\"name\"><a data-reactid=\"580\" href=\"/recipes/food/views/skirt-steak-with-spicy-coconut-dressing\">Skirt Steak with Spicy Coconut Dressing</a></h4><p class=\"dek\" data-reactid=\"581\" data-truncate=\"1\">This recipe is exceptionally weeknight-friendly (it goes from start to finish in less than an hour) and fully adaptable depending on the tastes of your family.</p><dl class=\"recipes-ratings-summary\" data-reactid=\"582\" data-reviews-count=\"4\" data-reviews-rating=\"3.75\" itemprop=\"aggregateRating\" itemscope=\"\" itemtype=\"https://schema.org/AggregateRating\"><dt class=\"rating-label\" data-reactid=\"583\">Average user rating</dt><span class=\"reviews-count-container\" data-reactid=\"584\"><dd class=\"rating\" data-rating=\"4\" data-reactid=\"585\"><span data-reactid=\"586\" itemprop=\"ratingValue\">4</span><!-- react-text: 587 -->/<!-- /react-text --><span data-reactid=\"588\" itemprop=\"bestRating\">4</span><meta content=\"0\" data-reactid=\"589\" itemprop=\"worstRating\"/></dd><dt class=\"reviews-count-label\" data-reactid=\"590\">Reviews</dt><dd class=\"reviews-count\" data-reactid=\"591\" itemprop=\"reviewCount\">4</dd></span><span class=\"make-again-container\" data-reactid=\"592\"><dt class=\"make-again-percentage-label\" data-reactid=\"593\">Percentage of reviewers who will make this recipe again</dt><dd class=\"make-again-percentage\" data-reactid=\"594\"><!-- react-text: 595 -->100<!-- /react-text --><!-- react-text: 596 -->%<!-- /react-text --></dd></span></dl></header>, <header class=\"summary\" data-reactid=\"610\"><strong class=\"tag\" data-reactid=\"611\">article</strong><h4 class=\"hed\" data-reactid=\"612\" data-truncate=\"3\" itemprop=\"name\"><a data-reactid=\"613\" href=\"/expert-advice/weekly-meal-plan-sunday-frittata-impromptu-pu-pu-and-a-super-easy-steak-night-article\">Weekly Meal Plan: March 11–15</a></h4><p class=\"dek\" data-reactid=\"614\" data-truncate=\"1\">A Sunday frittata, impromptu Pu Pu, and a super-easy steak night.</p></header>], 'ratings': [<dd class=\"rating\" data-rating=\"4\" data-reactid=\"77\"><span data-reactid=\"78\" itemprop=\"ratingValue\">4</span><!-- react-text: 79 -->/<!-- /react-text --><span data-reactid=\"80\" itemprop=\"bestRating\">4</span><meta content=\"0\" data-reactid=\"81\" itemprop=\"worstRating\"/></dd>, <dd class=\"rating\" data-rating=\"4\" data-reactid=\"110\"><span data-reactid=\"111\" itemprop=\"ratingValue\">4</span><!-- react-text: 112 -->/<!-- /react-text --><span data-reactid=\"113\" itemprop=\"bestRating\">4</span><meta content=\"0\" data-reactid=\"114\" itemprop=\"worstRating\"/></dd>, <dd class=\"rating\" data-rating=\"2\" data-reactid=\"143\"><span data-reactid=\"144\" itemprop=\"ratingValue\">2</span><!-- react-text: 145 -->/<!-- /react-text --><span data-reactid=\"146\" itemprop=\"bestRating\">4</span><meta content=\"0\" data-reactid=\"147\" itemprop=\"worstRating\"/></dd>, <dd class=\"rating\" data-rating=\"3\" data-reactid=\"176\"><span data-reactid=\"177\" itemprop=\"ratingValue\">3</span><!-- react-text: 178 -->/<!-- /react-text --><span data-reactid=\"179\" itemprop=\"bestRating\">4</span><meta content=\"0\" data-reactid=\"180\" itemprop=\"worstRating\"/></dd>, <dd class=\"rating\" data-rating=\"3\" data-reactid=\"209\"><span data-reactid=\"210\" itemprop=\"ratingValue\">3</span><!-- react-text: 211 -->/<!-- /react-text --><span data-reactid=\"212\" itemprop=\"bestRating\">4</span><meta content=\"0\" data-reactid=\"213\" itemprop=\"worstRating\"/></dd>, <dd class=\"rating\" data-rating=\"2\" data-reactid=\"242\"><span data-reactid=\"243\" itemprop=\"ratingValue\">2</span><!-- react-text: 244 -->/<!-- /react-text --><span data-reactid=\"245\" itemprop=\"bestRating\">4</span><meta content=\"0\" data-reactid=\"246\" itemprop=\"worstRating\"/></dd>, <dd class=\"rating\" data-rating=\"unrated\" data-reactid=\"275\"><span data-reactid=\"276\" itemprop=\"ratingValue\">0</span><!-- react-text: 277 -->/<!-- /react-text --><span data-reactid=\"278\" itemprop=\"bestRating\">4</span><meta content=\"0\" data-reactid=\"279\" itemprop=\"worstRating\"/></dd>, <dd class=\"rating\" data-rating=\"3.5\" data-reactid=\"308\"><span data-reactid=\"309\" itemprop=\"ratingValue\">3.5</span><!-- react-text: 310 -->/<!-- /react-text --><span data-reactid=\"311\" itemprop=\"bestRating\">4</span><meta content=\"0\" data-reactid=\"312\" itemprop=\"worstRating\"/></dd>, <dd class=\"rating\" data-rating=\"3.5\" data-reactid=\"341\"><span data-reactid=\"342\" itemprop=\"ratingValue\">3.5</span><!-- react-text: 343 -->/<!-- /react-text --><span data-reactid=\"344\" itemprop=\"bestRating\">4</span><meta content=\"0\" data-reactid=\"345\" itemprop=\"worstRating\"/></dd>, <dd class=\"rating\" data-rating=\"unrated\" data-reactid=\"374\"><span data-reactid=\"375\" itemprop=\"ratingValue\">0</span><!-- react-text: 376 -->/<!-- /react-text --><span data-reactid=\"377\" itemprop=\"bestRating\">4</span><meta content=\"0\" data-reactid=\"378\" itemprop=\"worstRating\"/></dd>, <dd class=\"rating\" data-rating=\"2.5\" data-reactid=\"407\"><span data-reactid=\"408\" itemprop=\"ratingValue\">2.5</span><!-- react-text: 409 -->/<!-- /react-text --><span data-reactid=\"410\" itemprop=\"bestRating\">4</span><meta content=\"0\" data-reactid=\"411\" itemprop=\"worstRating\"/></dd>, <dd class=\"rating\" data-rating=\"4\" data-reactid=\"440\"><span data-reactid=\"441\" itemprop=\"ratingValue\">4</span><!-- react-text: 442 -->/<!-- /react-text --><span data-reactid=\"443\" itemprop=\"bestRating\">4</span><meta content=\"0\" data-reactid=\"444\" itemprop=\"worstRating\"/></dd>, <dd class=\"rating\" data-rating=\"2.5\" data-reactid=\"473\"><span data-reactid=\"474\" itemprop=\"ratingValue\">2.5</span><!-- react-text: 475 -->/<!-- /react-text --><span data-reactid=\"476\" itemprop=\"bestRating\">4</span><meta content=\"0\" data-reactid=\"477\" itemprop=\"worstRating\"/></dd>, <dd class=\"rating\" data-rating=\"unrated\" data-reactid=\"506\"><span data-reactid=\"507\" itemprop=\"ratingValue\">0</span><!-- react-text: 508 -->/<!-- /react-text --><span data-reactid=\"509\" itemprop=\"bestRating\">4</span><meta content=\"0\" data-reactid=\"510\" itemprop=\"worstRating\"/></dd>, <dd class=\"rating\" data-rating=\"4\" data-reactid=\"539\"><span data-reactid=\"540\" itemprop=\"ratingValue\">4</span><!-- react-text: 541 -->/<!-- /react-text --><span data-reactid=\"542\" itemprop=\"bestRating\">4</span><meta content=\"0\" data-reactid=\"543\" itemprop=\"worstRating\"/></dd>, <dd class=\"rating\" data-rating=\"4\" data-reactid=\"585\"><span data-reactid=\"586\" itemprop=\"ratingValue\">4</span><!-- react-text: 587 -->/<!-- /react-text --><span data-reactid=\"588\" itemprop=\"bestRating\">4</span><meta content=\"0\" data-reactid=\"589\" itemprop=\"worstRating\"/></dd>], 'links': []}\n"
     ]
    }
   ],
   "source": [
    "url = \"https://www.epicurious.com/search/cucumbers\"\n",
    "print(\"I am scraping\", url)\n",
    "\n",
    "response = requests.get(url)\n",
    "doc = BeautifulSoup(response.text)\n",
    "\n",
    "epicurious = {}\n",
    "\n",
    "epicurious['categories'] = doc.find_all(class_='tag')\n",
    "epicurious['titles'] = doc.find_all(class_='hed')\n",
    "epicurious['summaries'] = doc.find_all(class_='summary')\n",
    "epicurious['ratings'] = doc.find_all(class_='rating')\n",
    "epicurious['links'] = doc.find_all(class_='media_link')\n",
    "\n",
    "print(epicurious)"
   ]
  },
  {
   "cell_type": "code",
   "execution_count": 34,
   "metadata": {},
   "outputs": [
    {
     "ename": "ValueError",
     "evalue": "arrays must all be same length",
     "output_type": "error",
     "traceback": [
      "\u001b[0;31m---------------------------------------------------------------------------\u001b[0m",
      "\u001b[0;31mValueError\u001b[0m                                Traceback (most recent call last)",
      "\u001b[0;32m<ipython-input-34-d46d8d8e3204>\u001b[0m in \u001b[0;36m<module>\u001b[0;34m\u001b[0m\n\u001b[0;32m----> 1\u001b[0;31m \u001b[0mdf\u001b[0m \u001b[0;34m=\u001b[0m \u001b[0mpd\u001b[0m\u001b[0;34m.\u001b[0m\u001b[0mDataFrame\u001b[0m\u001b[0;34m(\u001b[0m\u001b[0mepicurious\u001b[0m\u001b[0;34m)\u001b[0m\u001b[0;34m\u001b[0m\u001b[0m\n\u001b[0m",
      "\u001b[0;32m~/.pyenv/versions/3.6.5/lib/python3.6/site-packages/pandas/core/frame.py\u001b[0m in \u001b[0;36m__init__\u001b[0;34m(self, data, index, columns, dtype, copy)\u001b[0m\n\u001b[1;32m    390\u001b[0m                                  dtype=dtype, copy=copy)\n\u001b[1;32m    391\u001b[0m         \u001b[0;32melif\u001b[0m \u001b[0misinstance\u001b[0m\u001b[0;34m(\u001b[0m\u001b[0mdata\u001b[0m\u001b[0;34m,\u001b[0m \u001b[0mdict\u001b[0m\u001b[0;34m)\u001b[0m\u001b[0;34m:\u001b[0m\u001b[0;34m\u001b[0m\u001b[0m\n\u001b[0;32m--> 392\u001b[0;31m             \u001b[0mmgr\u001b[0m \u001b[0;34m=\u001b[0m \u001b[0minit_dict\u001b[0m\u001b[0;34m(\u001b[0m\u001b[0mdata\u001b[0m\u001b[0;34m,\u001b[0m \u001b[0mindex\u001b[0m\u001b[0;34m,\u001b[0m \u001b[0mcolumns\u001b[0m\u001b[0;34m,\u001b[0m \u001b[0mdtype\u001b[0m\u001b[0;34m=\u001b[0m\u001b[0mdtype\u001b[0m\u001b[0;34m)\u001b[0m\u001b[0;34m\u001b[0m\u001b[0m\n\u001b[0m\u001b[1;32m    393\u001b[0m         \u001b[0;32melif\u001b[0m \u001b[0misinstance\u001b[0m\u001b[0;34m(\u001b[0m\u001b[0mdata\u001b[0m\u001b[0;34m,\u001b[0m \u001b[0mma\u001b[0m\u001b[0;34m.\u001b[0m\u001b[0mMaskedArray\u001b[0m\u001b[0;34m)\u001b[0m\u001b[0;34m:\u001b[0m\u001b[0;34m\u001b[0m\u001b[0m\n\u001b[1;32m    394\u001b[0m             \u001b[0;32mimport\u001b[0m \u001b[0mnumpy\u001b[0m\u001b[0;34m.\u001b[0m\u001b[0mma\u001b[0m\u001b[0;34m.\u001b[0m\u001b[0mmrecords\u001b[0m \u001b[0;32mas\u001b[0m \u001b[0mmrecords\u001b[0m\u001b[0;34m\u001b[0m\u001b[0m\n",
      "\u001b[0;32m~/.pyenv/versions/3.6.5/lib/python3.6/site-packages/pandas/core/internals/construction.py\u001b[0m in \u001b[0;36minit_dict\u001b[0;34m(data, index, columns, dtype)\u001b[0m\n\u001b[1;32m    210\u001b[0m         \u001b[0marrays\u001b[0m \u001b[0;34m=\u001b[0m \u001b[0;34m[\u001b[0m\u001b[0mdata\u001b[0m\u001b[0;34m[\u001b[0m\u001b[0mk\u001b[0m\u001b[0;34m]\u001b[0m \u001b[0;32mfor\u001b[0m \u001b[0mk\u001b[0m \u001b[0;32min\u001b[0m \u001b[0mkeys\u001b[0m\u001b[0;34m]\u001b[0m\u001b[0;34m\u001b[0m\u001b[0m\n\u001b[1;32m    211\u001b[0m \u001b[0;34m\u001b[0m\u001b[0m\n\u001b[0;32m--> 212\u001b[0;31m     \u001b[0;32mreturn\u001b[0m \u001b[0marrays_to_mgr\u001b[0m\u001b[0;34m(\u001b[0m\u001b[0marrays\u001b[0m\u001b[0;34m,\u001b[0m \u001b[0mdata_names\u001b[0m\u001b[0;34m,\u001b[0m \u001b[0mindex\u001b[0m\u001b[0;34m,\u001b[0m \u001b[0mcolumns\u001b[0m\u001b[0;34m,\u001b[0m \u001b[0mdtype\u001b[0m\u001b[0;34m=\u001b[0m\u001b[0mdtype\u001b[0m\u001b[0;34m)\u001b[0m\u001b[0;34m\u001b[0m\u001b[0m\n\u001b[0m\u001b[1;32m    213\u001b[0m \u001b[0;34m\u001b[0m\u001b[0m\n\u001b[1;32m    214\u001b[0m \u001b[0;34m\u001b[0m\u001b[0m\n",
      "\u001b[0;32m~/.pyenv/versions/3.6.5/lib/python3.6/site-packages/pandas/core/internals/construction.py\u001b[0m in \u001b[0;36marrays_to_mgr\u001b[0;34m(arrays, arr_names, index, columns, dtype)\u001b[0m\n\u001b[1;32m     49\u001b[0m     \u001b[0;31m# figure out the index, if necessary\u001b[0m\u001b[0;34m\u001b[0m\u001b[0;34m\u001b[0m\u001b[0m\n\u001b[1;32m     50\u001b[0m     \u001b[0;32mif\u001b[0m \u001b[0mindex\u001b[0m \u001b[0;32mis\u001b[0m \u001b[0;32mNone\u001b[0m\u001b[0;34m:\u001b[0m\u001b[0;34m\u001b[0m\u001b[0m\n\u001b[0;32m---> 51\u001b[0;31m         \u001b[0mindex\u001b[0m \u001b[0;34m=\u001b[0m \u001b[0mextract_index\u001b[0m\u001b[0;34m(\u001b[0m\u001b[0marrays\u001b[0m\u001b[0;34m)\u001b[0m\u001b[0;34m\u001b[0m\u001b[0m\n\u001b[0m\u001b[1;32m     52\u001b[0m     \u001b[0;32melse\u001b[0m\u001b[0;34m:\u001b[0m\u001b[0;34m\u001b[0m\u001b[0m\n\u001b[1;32m     53\u001b[0m         \u001b[0mindex\u001b[0m \u001b[0;34m=\u001b[0m \u001b[0mensure_index\u001b[0m\u001b[0;34m(\u001b[0m\u001b[0mindex\u001b[0m\u001b[0;34m)\u001b[0m\u001b[0;34m\u001b[0m\u001b[0m\n",
      "\u001b[0;32m~/.pyenv/versions/3.6.5/lib/python3.6/site-packages/pandas/core/internals/construction.py\u001b[0m in \u001b[0;36mextract_index\u001b[0;34m(data)\u001b[0m\n\u001b[1;32m    315\u001b[0m             \u001b[0mlengths\u001b[0m \u001b[0;34m=\u001b[0m \u001b[0mlist\u001b[0m\u001b[0;34m(\u001b[0m\u001b[0mset\u001b[0m\u001b[0;34m(\u001b[0m\u001b[0mraw_lengths\u001b[0m\u001b[0;34m)\u001b[0m\u001b[0;34m)\u001b[0m\u001b[0;34m\u001b[0m\u001b[0m\n\u001b[1;32m    316\u001b[0m             \u001b[0;32mif\u001b[0m \u001b[0mlen\u001b[0m\u001b[0;34m(\u001b[0m\u001b[0mlengths\u001b[0m\u001b[0;34m)\u001b[0m \u001b[0;34m>\u001b[0m \u001b[0;36m1\u001b[0m\u001b[0;34m:\u001b[0m\u001b[0;34m\u001b[0m\u001b[0m\n\u001b[0;32m--> 317\u001b[0;31m                 \u001b[0;32mraise\u001b[0m \u001b[0mValueError\u001b[0m\u001b[0;34m(\u001b[0m\u001b[0;34m'arrays must all be same length'\u001b[0m\u001b[0;34m)\u001b[0m\u001b[0;34m\u001b[0m\u001b[0m\n\u001b[0m\u001b[1;32m    318\u001b[0m \u001b[0;34m\u001b[0m\u001b[0m\n\u001b[1;32m    319\u001b[0m             \u001b[0;32mif\u001b[0m \u001b[0mhave_dicts\u001b[0m\u001b[0;34m:\u001b[0m\u001b[0;34m\u001b[0m\u001b[0m\n",
      "\u001b[0;31mValueError\u001b[0m: arrays must all be same length"
     ]
    }
   ],
   "source": [
    "df = pd.DataFrame(epicurious)"
   ]
  },
  {
   "cell_type": "code",
   "execution_count": null,
   "metadata": {},
   "outputs": [],
   "source": []
  },
  {
   "cell_type": "code",
   "execution_count": null,
   "metadata": {},
   "outputs": [],
   "source": []
  }
 ],
 "metadata": {
  "kernelspec": {
   "display_name": "Python 3",
   "language": "python",
   "name": "python3"
  },
  "language_info": {
   "codemirror_mode": {
    "name": "ipython",
    "version": 3
   },
   "file_extension": ".py",
   "mimetype": "text/x-python",
   "name": "python",
   "nbconvert_exporter": "python",
   "pygments_lexer": "ipython3",
   "version": "3.6.5"
  }
 },
 "nbformat": 4,
 "nbformat_minor": 2
}
